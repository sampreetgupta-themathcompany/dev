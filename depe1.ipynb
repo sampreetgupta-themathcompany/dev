{
 "cells": [
  {
   "cell_type": "code",
   "execution_count": 1,
   "metadata": {},
   "outputs": [],
   "source": [
    "# tags to identify this iteration when submitted\n",
    "# example: codex_tags = {'env': 'dev', 'region': 'USA', 'product_category': 'A'}\n",
    "\n",
    "codex_tags = {\n",
    "}\n",
    "\n",
    "from codex_widget_factory import utils\n",
    "results_json=[]"
   ]
  },
  {
   "cell_type": "code",
   "execution_count": null,
   "metadata": {},
   "outputs": [],
   "source": [
    "#BEGIN CUSTOM CODE BELOW...\n",
    "\n",
    "#put your output in this response param for connecting to downstream widgets\n",
    "step_1 = \"\"\"\n",
    "# Below codestring is used to perform detailed analysis on quantity of sales done over time. \n",
    "\n",
    "import plotly.express as px\n",
    "import pandas as pd\n",
    "import json\n",
    "from io import StringIO\n",
    "import plotly.io as io\n",
    "\n",
    "\n",
    "def getLogger():\n",
    "    import logging\n",
    "    logging.basicConfig(filename=\"UIACLogger.log\",\n",
    "                        format='%(asctime)s %(message)s',\n",
    "                        filemode='a')\n",
    "    logger = logging.getLogger()\n",
    "    logger.setLevel(logging.DEBUG)\n",
    "    return logger\n",
    "\n",
    "\n",
    "logger = getLogger()\n",
    "\n",
    "\n",
    "def fiile_read(blob_name):\n",
    "    #reading the file from azure blob storage container\n",
    "    logger.info(f\"Read dataset file: {blob_name}\")\n",
    "    try:\n",
    "        from azure.storage.blob import BlockBlobService\n",
    "        sas_token = '?sv=2021-04-10&st=2022-12-22T08%3A12%3A47Z&se=2023-12-30T08%3A12%3A00Z&sr=c&sp=racwl&sig=fMeYkXsCvwK%2F0qVrCmj2j3NiMricQjOPWOkAEXekIPA%3D'\n",
    "        account_name = 'willbedeletedsoon'\n",
    "        container_name = 'codx-pede-s02'\n",
    "        #blob_name = 'cost-of-living_v2_I0869'\n",
    "        def get_data_from_blob(sas_token, account_name, container_name, blob_name):\n",
    "            block_blob_service = BlockBlobService(account_name=account_name, sas_token= sas_token)\n",
    "            from_blob = block_blob_service.get_blob_to_text(container_name = container_name, blob_name=blob_name)\n",
    "            return pd.read_csv(StringIO(from_blob.content))\n",
    "        input_df=get_data_from_blob(sas_token, account_name, container_name, blob_name)\n",
    "        #filtering out empty columns\n",
    "        input_df = input_df[input_df.x2.notnull()]\n",
    "        input_df = input_df[input_df.x23.notnull()]\n",
    "        input_df = input_df[input_df.x33.notnull()]\n",
    "        input_df = input_df[input_df.x54.notnull()]\n",
    "        data_good = input_df[input_df[\"data_quality\"] == 1]\n",
    "        \n",
    "        ##print(data_good)\n",
    "        return(input_df)\n",
    "    except Exception as error_msg:\n",
    "        logger.info(f\"Exception occured while reading the dataset: {blob_name}\"\n",
    "                    f\"Error Info is  {error_msg}\")\n",
    "\n",
    "\n",
    "def getGraph(dframe, filters):\n",
    "    logger.info(\n",
    "        \"Preparing bar graph json to understand basic_expenditure across all countries\")\n",
    "    column_names = ['x48', 'x38', 'x37', 'x36', 'x33', 'x8', 'x29']\n",
    "    #print(dframe['country'])\n",
    "    data_good = dframe[dframe[\"data_quality\"] == 1]\n",
    "    data_good['basic_expenditure']= data_good[column_names].sum(axis=1)\n",
    "    for item in filters:\n",
    "        if 'All' in filters[item]:\n",
    "            continue\n",
    "        elif isinstance(filters[item], list):\n",
    "            data_good = data_good[data_good[item].isin(filters[item])]\n",
    "        else:\n",
    "            data_good = data_good[data_good[item] == filters[item]]\n",
    "    fig = px.bar(data_good, x='x48', y='country', color='basic_expenditure')\n",
    "    #fig.show()\n",
    "    logger.info(\n",
    "        \"Successfully prepared bar graph json to understand basic_expenditure across all countries\")\n",
    "    return io.to_json(fig)\n",
    "\n",
    "\n",
    "selected_filters = {\"country\": ['India','Denmark']}\n",
    "dframe = fiile_read(\"cost-of-living_v2_I0869.csv\")\n",
    "#dframe = dframe.groupby(['country'])\n",
    "dynamic_outputs = getGraph(dframe, selected_filters)#here11\n",
    "\n",
    "\"\"\"\n",
    "# #END CUSTOM CODE"
   ]
  },
  {
   "cell_type": "code",
   "execution_count": 2,
   "metadata": {},
   "outputs": [],
   "source": [
    "#BEGIN CUSTOM CODE BELOW...\n",
    "\n",
    "#put your output in this response param for connecting to downstream widgets\n",
    "step_2_Filters = \"\"\"\n",
    "## Below codestring is used to create filters to show different regions data in  product historic screen.\n",
    "\n",
    "import pandas as pd\n",
    "import json\n",
    "from io import StringIO\n",
    "from itertools import chain\n",
    "\n",
    "\n",
    "def getLogger():\n",
    "    import logging\n",
    "    logging.basicConfig(filename=\"UIACLogger.log\",\n",
    "                        format='%(asctime)s %(message)s',\n",
    "                        filemode='a')\n",
    "    logger = logging.getLogger()\n",
    "    logger.setLevel(logging.DEBUG)\n",
    "    return logger\n",
    "\n",
    "\n",
    "logger = getLogger()\n",
    "\n",
    "\n",
    "def fiile_read(blob_name):\n",
    "    #reading the file from azure blob storage container\n",
    "    logger.info(f\"Read dataset file: {blob_name}\")\n",
    "    try:\n",
    "        from azure.storage.blob import BlockBlobService\n",
    "        sas_token = '?sv=2021-04-10&st=2022-12-22T08%3A12%3A47Z&se=2023-12-30T08%3A12%3A00Z&sr=c&sp=racwl&sig=fMeYkXsCvwK%2F0qVrCmj2j3NiMricQjOPWOkAEXekIPA%3D'\n",
    "        account_name = 'willbedeletedsoon'\n",
    "        container_name = 'codx-pede-s02'\n",
    "        #blob_name = 'cost-of-living_v2_I0869'\n",
    "        def get_data_from_blob(sas_token, account_name, container_name, blob_name):\n",
    "            block_blob_service = BlockBlobService(account_name=account_name, sas_token= sas_token)\n",
    "            from_blob = block_blob_service.get_blob_to_text(container_name = container_name, blob_name=blob_name)\n",
    "            return pd.read_csv(StringIO(from_blob.content))\n",
    "        input_df=get_data_from_blob(sas_token, account_name, container_name, blob_name)\n",
    "        #filtering out empty columns\n",
    "        input_df = input_df[input_df.x2.notnull()]\n",
    "        input_df = input_df[input_df.x23.notnull()]\n",
    "        input_df = input_df[input_df.x33.notnull()]\n",
    "        input_df = input_df[input_df.x54.notnull()]\n",
    "        data_good = input_df[input_df[\"data_quality\"] == 1]\n",
    "        \n",
    "        ##print(data_good)\n",
    "        return(data_good)\n",
    "    except Exception as error_msg:\n",
    "        logger.info(f\"Exception occured while reading the dataset: {blob_name}\"\n",
    "                    f\"Error Info is  {error_msg}\")\n",
    "\n",
    "\n",
    "def get_response_filters(current_filter_params, df, default_values_selected, all_filters, multi_select_filters, extra_filters={}):\n",
    "    logger.info(\"Preparing filter dictionary\")\n",
    "    # Usage\n",
    "    # -----\n",
    "    # >>> filter_df = pd.DataFrame(columns=[....])    # Optional operation\n",
    "    # >>> filter_df = final_ADS.groupby(......)       # Optional operation\n",
    "    # >>> default_values_selected = {}    # The default value to be selected for a filter, provide filter_name, filter_values\n",
    "    # >>> all_option_filters = []         # Filters with an All option\n",
    "    # >>> multi_select_filters = []       # Filters with an multi_select option\n",
    "    # >>> more_filters = {}               # Extra filters, provide filter_names, filter_options\n",
    "    # >>> final_dict_out = get_response_filters(current_filter_params, filter_df, default_values_selected, all_option_filters, multi_select_filters, more_filters)\n",
    "    # >>> dynamic_outputs = json.dumps(final_dict_out)\n",
    "    # Returns\n",
    "    # -------\n",
    "    # A dict object containing the filters JSON structure\n",
    "\n",
    "    filters = list(df.columns)\n",
    "    default_values_possible = {}\n",
    "    for item in filters:\n",
    "        default_possible = list(df[item].unique())\n",
    "        if item in all_filters:\n",
    "            default_possible = list(chain(['All'], default_possible))\n",
    "        default_values_possible[item] = default_possible\n",
    "    if extra_filters:\n",
    "        filters.extend(list(extra_filters.keys()))\n",
    "        default_values_possible.update(extra_filters)\n",
    "    if current_filter_params:\n",
    "        selected_filters = current_filter_params[\"selected\"]\n",
    "        # current_filter = current_filter_params[\"current_filter\"]\n",
    "        # current_index = filters.index(current_filter)\n",
    "        select_df = df.copy()\n",
    "    final_dict = {}\n",
    "    iter_value = 0\n",
    "    data_values = []\n",
    "    default_values = {}\n",
    "    for item in filters:\n",
    "        filter_dict = {}\n",
    "        filter_dict[\"widget_filter_index\"] = int(iter_value)\n",
    "        filter_dict[\"widget_filter_function\"] = False\n",
    "        filter_dict[\"widget_filter_function_parameter\"] = False\n",
    "        filter_dict[\"widget_filter_hierarchy_key\"] = False\n",
    "        filter_dict[\"widget_filter_isall\"] = True if item in all_filters else False\n",
    "        filter_dict[\"widget_filter_multiselect\"] = True if item in multi_select_filters else False\n",
    "        filter_dict[\"widget_tag_key\"] = str(item)\n",
    "        filter_dict[\"widget_tag_label\"] = str(item)\n",
    "        filter_dict[\"widget_tag_input_type\"] = \"select\",\n",
    "        filter_dict[\"widget_filter_dynamic\"] = True\n",
    "        if current_filter_params:\n",
    "            if item in df.columns:\n",
    "                possible_values = list(select_df[item].unique())\n",
    "                item_default_value = selected_filters[item]\n",
    "                if item in all_filters:\n",
    "                    possible_values = list(chain(['All'], possible_values))\n",
    "                if item in multi_select_filters:\n",
    "                    for value in selected_filters[item]:\n",
    "                        if value not in possible_values:\n",
    "                            if possible_values[0] == \"All\":\n",
    "                                item_default_value = possible_values\n",
    "                            else:\n",
    "                                item_default_value = [possible_values[0]]\n",
    "                else:\n",
    "                    if selected_filters[item] not in possible_values:\n",
    "                        item_default_value = possible_values[0]\n",
    "                filter_dict[\"widget_tag_value\"] = possible_values\n",
    "                if item in multi_select_filters:\n",
    "                    if 'All' not in item_default_value and selected_filters[item]:\n",
    "                        select_df = select_df[select_df[item].isin(\n",
    "                            item_default_value)]\n",
    "                else:\n",
    "                    if selected_filters[item] != 'All':\n",
    "                        select_df = select_df[select_df[item]\n",
    "                                              == item_default_value]\n",
    "            else:\n",
    "                filter_dict[\"widget_tag_value\"] = extra_filters[item]\n",
    "        else:\n",
    "            filter_dict[\"widget_tag_value\"] = default_values_possible[item]\n",
    "            item_default_value = default_values_selected[item]\n",
    "        data_values.append(filter_dict)\n",
    "        default_values[item] = item_default_value\n",
    "        iter_value = iter_value + 1\n",
    "    final_dict[\"dataValues\"] = data_values\n",
    "    final_dict[\"defaultValues\"] = default_values\n",
    "    logger.info(\"Successfully prepared filter dictionary\")\n",
    "    return final_dict\n",
    "\n",
    "\n",
    "def prepare_filter_json():\n",
    "    logger.info(f\"Preparing json for Filters in Historical Screen\")\n",
    "    # Preapre Filter json for Region in the Historical View Screen.\n",
    "    dframe = fiile_read(\"cost-of-living_v2_I0869\")\n",
    "    dframe = dframe.groupby(['country']).sum().reset_index()\n",
    "    filter_dframe = dframe[['country']]\n",
    "    default_values_selected = {\"country\": 'India'}\n",
    "    all_filters = []\n",
    "    multi_select_filters = []\n",
    "    current_filter_params = {\"selected\": default_values_selected}\n",
    "    final_dict_out = get_response_filters(\n",
    "        current_filter_params, filter_dframe, default_values_selected, all_filters, multi_select_filters)\n",
    "    logger.info(f\"Successful prepared json for Filters in Historical Screen\")\n",
    "    return json.dumps(final_dict_out)\n",
    "\n",
    "\n",
    "dynamic_outputs = prepare_filter_json()\n",
    "\"\"\"\n",
    "#END CUSTOM CODE"
   ]
  },
  {
   "cell_type": "code",
   "execution_count": 3,
   "metadata": {},
   "outputs": [],
   "source": [
    "#BEGIN CUSTOM CODE BELOW...\n",
    "\n",
    "#put your output in this response param for connecting to downstream widgets\n",
    "step_2_Table = \"\"\"\n",
    "# Below codestring is used to display the grid table that consists of historic sales done over time on each product.\n",
    "\n",
    "import pandas as pd\n",
    "import json\n",
    "from io import StringIO\n",
    "\n",
    "\n",
    "def getLogger():\n",
    "    import logging\n",
    "    logging.basicConfig(filename=\"UIACLogger.log\",\n",
    "                        format='%(asctime)s %(message)s',\n",
    "                        filemode='a')\n",
    "    logger = logging.getLogger()\n",
    "    logger.setLevel(logging.DEBUG)\n",
    "    return logger\n",
    "\n",
    "\n",
    "logger = getLogger()\n",
    "\n",
    "\n",
    "def fiile_read(blob_name):\n",
    "    #reading the file from azure blob storage container\n",
    "    logger.info(f\"Read dataset file: {blob_name}\")\n",
    "    try:\n",
    "        from azure.storage.blob import BlockBlobService\n",
    "        sas_token = '?sv=2021-04-10&st=2022-12-22T08%3A12%3A47Z&se=2023-12-30T08%3A12%3A00Z&sr=c&sp=racwl&sig=fMeYkXsCvwK%2F0qVrCmj2j3NiMricQjOPWOkAEXekIPA%3D'\n",
    "        account_name = 'willbedeletedsoon'\n",
    "        container_name = 'codx-pede-s02'\n",
    "        #blob_name = 'cost-of-living_v2_I0869'\n",
    "        def get_data_from_blob(sas_token, account_name, container_name, blob_name):\n",
    "            block_blob_service = BlockBlobService(account_name=account_name, sas_token= sas_token)\n",
    "            from_blob = block_blob_service.get_blob_to_text(container_name = container_name, blob_name=blob_name)\n",
    "            return pd.read_csv(StringIO(from_blob.content))\n",
    "        input_df=get_data_from_blob(sas_token, account_name, container_name, blob_name)\n",
    "        #filtering out empty columns\n",
    "        input_df = input_df[input_df.x2.notnull()]\n",
    "        input_df = input_df[input_df.x23.notnull()]\n",
    "        input_df = input_df[input_df.x33.notnull()]\n",
    "        input_df = input_df[input_df.x54.notnull()]\n",
    "        data_good = input_df[input_df[\"data_quality\"] == 1]\n",
    "        \n",
    "        ##print(data_good)\n",
    "        return(input_df)\n",
    "    except Exception as error_msg:\n",
    "        logger.info(f\"Exception occured while reading the dataset: {blob_name}\"\n",
    "                    f\"Error Info is  {error_msg}\")\n",
    "\n",
    "\n",
    "def get_filter_table(dframe, selected_filters):\n",
    "    logger.info(\"Applying screen filters on the grid table dframe.\")\n",
    "    select_df = dframe.copy()\n",
    "    for item in list(selected_filters):\n",
    "        if isinstance(selected_filters[item], list):\n",
    "            if 'All' not in selected_filters[item] and selected_filters[item]:\n",
    "                select_df = select_df[select_df[item].isin(\n",
    "                    selected_filters[item])]\n",
    "        else:\n",
    "            if selected_filters[item] != 'All':\n",
    "                select_df = select_df[select_df[item]\n",
    "                                      == selected_filters[item]]\n",
    "    logger.info(\"Successfully applied screen filters on the grid table dframe.\")\n",
    "    return select_df\n",
    "\n",
    "\n",
    "def generate_dynamic_table(dframe, name='Sales', grid_options={\"tableSize\": \"small\", \"tableMaxHeight\": \"80vh\", \"quickSearch\":True}, group_headers=[], grid=\"auto\"):\n",
    "    logger.info(\"Generate dynamic Grid table json from dframe\")\n",
    "    table_dict = {}\n",
    "    table_props = {}\n",
    "    table_dict.update({\"grid\": grid, \"type\": \"tabularForm\",\n",
    "                      \"noGutterBottom\": True, 'name': name})\n",
    "    values_dict = dframe.dropna(axis=1).to_dict(\"records\")\n",
    "    table_dict.update({\"value\": values_dict})\n",
    "    col_def_list = []\n",
    "    for col in list(dframe.columns):\n",
    "        col_def_dict = {}\n",
    "        col_def_dict.update({\"headerName\": col, \"field\": col})\n",
    "        col_def_list.append(col_def_dict)\n",
    "    table_props[\"groupHeaders\"] = group_headers\n",
    "    table_props[\"coldef\"] = col_def_list\n",
    "    table_props[\"gridOptions\"] = grid_options\n",
    "    table_dict.update({\"tableprops\": table_props})\n",
    "    logger.info(\"Successfully generated dynamic Grid table json from dframe\")\n",
    "    return table_dict\n",
    "\n",
    "\n",
    "def build_grid_table_json():\n",
    "    logger.info(\"Preparing grid table json for Historical Screen\")\n",
    "    form_config = {}\n",
    "    dframe = fiile_read(\"cost-of-living_v2_I0869\")\n",
    "    selected_filters = {\"country\": 'India'}\n",
    "    dframe = get_filter_table(dframe, selected_filters)\n",
    "    form_config['fields'] = [generate_dynamic_table(dframe)]\n",
    "    grid_table_json = {}\n",
    "    grid_table_json['form_config'] = form_config\n",
    "    logger.info(\"Successfully prepared grid table json for Historical Screen\")\n",
    "    return grid_table_json\n",
    "\n",
    "\n",
    "grid_table_json = build_grid_table_json()\n",
    "dynamic_outputs = json.dumps(grid_table_json)\n",
    "\n",
    "\"\"\"\n",
    "#END CUSTOM CODE done till here"
   ]
  },
  {
   "cell_type": "code",
   "execution_count": 9,
   "metadata": {},
   "outputs": [
    {
     "name": "stdout",
     "output_type": "stream",
     "text": [
      "          country      x48   x37     x36    x8\n",
      "0     South Korea   742.54  0.16  182.13  0.79\n",
      "1           China  1091.93  0.03   66.00  0.33\n",
      "2           China   533.28  0.02   59.65  0.33\n",
      "3           India   522.40  0.01   43.57  0.19\n",
      "4           India   229.84  0.01   58.07  0.19\n",
      "...           ...      ...   ...     ...   ...\n",
      "4111       Canada   925.51  0.22  149.83  1.58\n",
      "4205       Norway   719.26  0.14  178.99  2.93\n",
      "4322     Portugal   882.51  0.13  101.86  1.44\n",
      "4404       Brazil   306.55  0.23   66.94  0.71\n",
      "4494       Russia   473.14  0.04  133.70  0.50\n",
      "\n",
      "[894 rows x 5 columns]\n"
     ]
    }
   ],
   "source": [
    "#BEGIN CUSTOM CODE BELOW...\n",
    "\n",
    "#put your output in this response param for connecting to downstream widgets\n",
    "step_3_Table = \"\"\"\n",
    "# Below codestring is used to display the grid table that consists of historic sales done over time on each product.\n",
    "\n",
    "import pandas as pd\n",
    "import json\n",
    "from io import StringIO\n",
    "\n",
    "\n",
    "def getLogger():\n",
    "    import logging\n",
    "    logging.basicConfig(filename=\"UIACLogger.log\",\n",
    "                        format='%(asctime)s %(message)s',\n",
    "                        filemode='a')\n",
    "    logger = logging.getLogger()\n",
    "    logger.setLevel(logging.DEBUG)\n",
    "    return logger\n",
    "\n",
    "\n",
    "logger = getLogger()\n",
    "\n",
    "\n",
    "def file_read(blob_name):\n",
    "    #reading the file from azure blob storage container\n",
    "    logger.info(f\"Read dataset file: {blob_name}\")\n",
    "    try:\n",
    "        from azure.storage.blob import BlockBlobService\n",
    "        sas_token = '?sv=2021-04-10&st=2022-12-22T08%3A12%3A47Z&se=2023-12-30T08%3A12%3A00Z&sr=c&sp=racwl&sig=fMeYkXsCvwK%2F0qVrCmj2j3NiMricQjOPWOkAEXekIPA%3D'\n",
    "        account_name = 'willbedeletedsoon'\n",
    "        container_name = 'codx-pede-s02'\n",
    "        #blob_name = 'cost-of-living_v2_I0869' fiile_read(\"cost-of-living_v2_I0869\")\n",
    "        def get_data_from_blob(sas_token, account_name, container_name, blob_name):\n",
    "            block_blob_service = BlockBlobService(account_name=account_name, sas_token= sas_token)\n",
    "            from_blob = block_blob_service.get_blob_to_text(container_name = container_name, blob_name=blob_name)\n",
    "            return pd.read_csv(StringIO(from_blob.content))\n",
    "        input_df=get_data_from_blob(sas_token, account_name, container_name, blob_name)\n",
    "        #filtering out empty columns\n",
    "        input_df = input_df[input_df.x2.notnull()]\n",
    "        input_df = input_df[input_df.x8.notnull()]\n",
    "        input_df = input_df[input_df.x33.notnull()]\n",
    "        input_df = input_df[input_df.x54.notnull()]\n",
    "        input_df = input_df[input_df.x48.notnull()]\n",
    "        input_df = input_df[input_df.x37.notnull()]\n",
    "        input_df = input_df[input_df.x36.notnull()]\n",
    "        data_good = input_df[input_df[\"data_quality\"] == 1]\n",
    "        \n",
    "        #print(data_good)\n",
    "        return(data_good)\n",
    "    except Exception as error_msg:\n",
    "        logger.info(f\"Exception occured while reading the dataset: {blob_name}\"\n",
    "                    f\"Error Info is  {error_msg}\")\n",
    "\n",
    "\n",
    "def get_filter_table(dframe, selected_filters):\n",
    "    logger.info(\"Applying screen filters on the grid table dframe.\")\n",
    "    select_df = dframe.copy()\n",
    "    for item in list(selected_filters):\n",
    "        if isinstance(selected_filters[item], list):\n",
    "            if 'All' not in selected_filters[item] and selected_filters[item]:\n",
    "                select_df = select_df[select_df[item].isin(\n",
    "                    selected_filters[item])]\n",
    "        else:\n",
    "            if selected_filters[item] != 'All':\n",
    "                select_df = select_df[select_df[item]\n",
    "                                      == selected_filters[item]]\n",
    "    logger.info(\"Successfully applied screen filters on the grid table dframe.\")\n",
    "    return select_df\n",
    "\n",
    "\n",
    "def generate_dynamic_table(dframe, name='Sales', grid_options={\"tableSize\": \"small\", \"tableMaxHeight\": \"80vh\", \"quickSearch\":True}, group_headers=[], grid=\"auto\"):\n",
    "    logger.info(\"Generate dynamic Grid table json from dframe\")\n",
    "    table_dict = {}\n",
    "    table_props = {}\n",
    "    table_dict.update({\"grid\": grid, \"type\": \"tabularForm\",\n",
    "                      \"noGutterBottom\": True, 'name': name})\n",
    "    values_dict = dframe.dropna(axis=1).to_dict(\"records\")\n",
    "    table_dict.update({\"value\": values_dict})\n",
    "    col_def_list = []\n",
    "    for col in list(dframe.columns):\n",
    "        col_def_dict = {}\n",
    "        col_def_dict.update({\"headerName\": col, \"field\": col})\n",
    "        col_def_list.append(col_def_dict)\n",
    "    table_props[\"groupHeaders\"] = group_headers\n",
    "    table_props[\"coldef\"] = col_def_list\n",
    "    table_props[\"gridOptions\"] = grid_options\n",
    "    table_dict.update({\"tableprops\": table_props})\n",
    "    logger.info(\"Successfully generated dynamic Grid table json from dframe\")\n",
    "    return table_dict\n",
    "\n",
    "\n",
    "def build_grid_table_json():\n",
    "    logger.info(\"Preparing grid table json for Historical Screen\")\n",
    "    form_config = {}\n",
    "    dframe = file_read(\"cost-of-living_v2_I0869.csv\")\n",
    "    #print(dframe)\n",
    "    selected_filters = {\"country\": 'India'}\n",
    "    #print(dframe)\n",
    "    dframe1=dframe[['country','x48', 'x37', 'x36', 'x8']] #--here281222 --5 columns\n",
    "    print(dframe1)\n",
    "    dframe = get_filter_table(dframe, selected_filters)\n",
    "    form_config['fields'] = [generate_dynamic_table(dframe)]\n",
    "    grid_table_json = {}\n",
    "    grid_table_json['form_config'] = form_config\n",
    "    logger.info(\"Successfully prepared grid table json for Historical Screen\")\n",
    "    return grid_table_json\n",
    "\n",
    "\n",
    "grid_table_json = build_grid_table_json()\n",
    "dynamic_outputs = json.dumps(grid_table_json)\n",
    "\n",
    "# \"\"\"\n",
    "# #END CUSTOM CODE done till here"
   ]
  },
  {
   "cell_type": "code",
   "execution_count": 21,
   "metadata": {},
   "outputs": [
    {
     "name": "stdout",
     "output_type": "stream",
     "text": [
      "            city  country     x1      x2     x3    x4    x5    x6    x7    x8  \\\n",
      "396   Copenhagen  Denmark  19.85  113.40  12.05  7.09  7.05  5.99  3.25  2.67   \n",
      "1494      Aarhus  Denmark  21.26   92.14  12.47  7.80  5.67  5.61  3.37  2.84   \n",
      "1929      Odense  Denmark  21.26  113.40  11.98  6.80  6.38  5.83  3.70  3.26   \n",
      "2258     Aalborg  Denmark  18.43   92.14  11.34  7.09  6.02  4.81  3.69  2.61   \n",
      "2926       Vejle  Denmark  17.01   85.05  12.62  7.44  5.67  6.02  4.96  3.01   \n",
      "\n",
      "      ...      x48      x49      x50      x51      x52      x53      x54  \\\n",
      "396   ...  1765.18  1309.91  2669.65  2014.90  7808.48  5450.68  3670.25   \n",
      "1494  ...  1064.15   670.59  2036.07  1417.51  6176.31  3307.53  3458.74   \n",
      "1929  ...   885.24   666.23  1701.02  1319.86  3173.44  2338.90  2895.05   \n",
      "2258  ...   757.36   543.38  1273.99  1022.19  4388.73  3349.10  3448.13   \n",
      "2926  ...   726.48   661.51  1417.51  1116.29  3071.28  2268.02  3503.62   \n",
      "\n",
      "       x55  data_quality  basic_expenditure  \n",
      "396   1.69             1            2084.48  \n",
      "1494  2.12             1            1371.27  \n",
      "1929  1.25             1            1206.26  \n",
      "2258  1.94             1            1053.93  \n",
      "2926  2.00             1            1056.32  \n",
      "\n",
      "[5 rows x 59 columns]\n"
     ]
    },
    {
     "name": "stderr",
     "output_type": "stream",
     "text": [
      "c:\\Users\\SampreetGupta\\AppData\\Local\\Programs\\Python\\Python37\\lib\\site-packages\\ipykernel_launcher.py:61: SettingWithCopyWarning:\n",
      "\n",
      "\n",
      "A value is trying to be set on a copy of a slice from a DataFrame.\n",
      "Try using .loc[row_indexer,col_indexer] = value instead\n",
      "\n",
      "See the caveats in the documentation: https://pandas.pydata.org/pandas-docs/stable/user_guide/indexing.html#returning-a-view-versus-a-copy\n",
      "\n"
     ]
    },
    {
     "data": {
      "application/vnd.plotly.v1+json": {
       "config": {
        "plotlyServerURL": "https://plot.ly"
       },
       "data": [
        {
         "hovertemplate": "country=%{x}<br>basic_expenditure=%{y}<extra></extra>",
         "legendgroup": "",
         "marker": {
          "color": "#636efa",
          "symbol": "circle"
         },
         "mode": "markers",
         "name": "",
         "orientation": "v",
         "showlegend": false,
         "type": "scatter",
         "x": [
          "India",
          "India",
          "India",
          "India",
          "India",
          "India",
          "India",
          "India",
          "India",
          "India",
          "India",
          "India",
          "India",
          "India",
          "India",
          "India",
          "India",
          "India",
          "India",
          "India",
          "India",
          "India",
          "India",
          "India",
          "Denmark",
          "India",
          "India",
          "India",
          "India",
          "India",
          "India",
          "India",
          "India",
          "Denmark",
          "India",
          "Denmark",
          "Denmark",
          "Denmark"
         ],
         "xaxis": "x",
         "y": [
          581.7600000000001,
          308.97,
          193.35000000000002,
          296.17,
          237.92,
          225.18,
          516.3000000000001,
          267.43,
          270.4000000000001,
          193.04,
          207.72000000000003,
          137.69000000000003,
          148.63,
          349.5,
          173.40999999999997,
          332.44999999999993,
          109.03999999999999,
          166.89000000000001,
          207.08000000000004,
          199.06,
          180.26000000000002,
          152.56,
          168.18999999999997,
          168.3,
          2084.48,
          245.40000000000003,
          207.81,
          210.19,
          158.9,
          223.51999999999998,
          173.30999999999997,
          219.26,
          176.26,
          1371.27,
          323.52,
          1206.2600000000002,
          1053.93,
          1056.32
         ],
         "yaxis": "y"
        }
       ],
       "layout": {
        "legend": {
         "tracegroupgap": 0
        },
        "margin": {
         "t": 60
        },
        "template": {
         "data": {
          "bar": [
           {
            "error_x": {
             "color": "#2a3f5f"
            },
            "error_y": {
             "color": "#2a3f5f"
            },
            "marker": {
             "line": {
              "color": "#E5ECF6",
              "width": 0.5
             }
            },
            "type": "bar"
           }
          ],
          "barpolar": [
           {
            "marker": {
             "line": {
              "color": "#E5ECF6",
              "width": 0.5
             }
            },
            "type": "barpolar"
           }
          ],
          "carpet": [
           {
            "aaxis": {
             "endlinecolor": "#2a3f5f",
             "gridcolor": "white",
             "linecolor": "white",
             "minorgridcolor": "white",
             "startlinecolor": "#2a3f5f"
            },
            "baxis": {
             "endlinecolor": "#2a3f5f",
             "gridcolor": "white",
             "linecolor": "white",
             "minorgridcolor": "white",
             "startlinecolor": "#2a3f5f"
            },
            "type": "carpet"
           }
          ],
          "choropleth": [
           {
            "colorbar": {
             "outlinewidth": 0,
             "ticks": ""
            },
            "type": "choropleth"
           }
          ],
          "contour": [
           {
            "colorbar": {
             "outlinewidth": 0,
             "ticks": ""
            },
            "colorscale": [
             [
              0,
              "#0d0887"
             ],
             [
              0.1111111111111111,
              "#46039f"
             ],
             [
              0.2222222222222222,
              "#7201a8"
             ],
             [
              0.3333333333333333,
              "#9c179e"
             ],
             [
              0.4444444444444444,
              "#bd3786"
             ],
             [
              0.5555555555555556,
              "#d8576b"
             ],
             [
              0.6666666666666666,
              "#ed7953"
             ],
             [
              0.7777777777777778,
              "#fb9f3a"
             ],
             [
              0.8888888888888888,
              "#fdca26"
             ],
             [
              1,
              "#f0f921"
             ]
            ],
            "type": "contour"
           }
          ],
          "contourcarpet": [
           {
            "colorbar": {
             "outlinewidth": 0,
             "ticks": ""
            },
            "type": "contourcarpet"
           }
          ],
          "heatmap": [
           {
            "colorbar": {
             "outlinewidth": 0,
             "ticks": ""
            },
            "colorscale": [
             [
              0,
              "#0d0887"
             ],
             [
              0.1111111111111111,
              "#46039f"
             ],
             [
              0.2222222222222222,
              "#7201a8"
             ],
             [
              0.3333333333333333,
              "#9c179e"
             ],
             [
              0.4444444444444444,
              "#bd3786"
             ],
             [
              0.5555555555555556,
              "#d8576b"
             ],
             [
              0.6666666666666666,
              "#ed7953"
             ],
             [
              0.7777777777777778,
              "#fb9f3a"
             ],
             [
              0.8888888888888888,
              "#fdca26"
             ],
             [
              1,
              "#f0f921"
             ]
            ],
            "type": "heatmap"
           }
          ],
          "heatmapgl": [
           {
            "colorbar": {
             "outlinewidth": 0,
             "ticks": ""
            },
            "colorscale": [
             [
              0,
              "#0d0887"
             ],
             [
              0.1111111111111111,
              "#46039f"
             ],
             [
              0.2222222222222222,
              "#7201a8"
             ],
             [
              0.3333333333333333,
              "#9c179e"
             ],
             [
              0.4444444444444444,
              "#bd3786"
             ],
             [
              0.5555555555555556,
              "#d8576b"
             ],
             [
              0.6666666666666666,
              "#ed7953"
             ],
             [
              0.7777777777777778,
              "#fb9f3a"
             ],
             [
              0.8888888888888888,
              "#fdca26"
             ],
             [
              1,
              "#f0f921"
             ]
            ],
            "type": "heatmapgl"
           }
          ],
          "histogram": [
           {
            "marker": {
             "colorbar": {
              "outlinewidth": 0,
              "ticks": ""
             }
            },
            "type": "histogram"
           }
          ],
          "histogram2d": [
           {
            "colorbar": {
             "outlinewidth": 0,
             "ticks": ""
            },
            "colorscale": [
             [
              0,
              "#0d0887"
             ],
             [
              0.1111111111111111,
              "#46039f"
             ],
             [
              0.2222222222222222,
              "#7201a8"
             ],
             [
              0.3333333333333333,
              "#9c179e"
             ],
             [
              0.4444444444444444,
              "#bd3786"
             ],
             [
              0.5555555555555556,
              "#d8576b"
             ],
             [
              0.6666666666666666,
              "#ed7953"
             ],
             [
              0.7777777777777778,
              "#fb9f3a"
             ],
             [
              0.8888888888888888,
              "#fdca26"
             ],
             [
              1,
              "#f0f921"
             ]
            ],
            "type": "histogram2d"
           }
          ],
          "histogram2dcontour": [
           {
            "colorbar": {
             "outlinewidth": 0,
             "ticks": ""
            },
            "colorscale": [
             [
              0,
              "#0d0887"
             ],
             [
              0.1111111111111111,
              "#46039f"
             ],
             [
              0.2222222222222222,
              "#7201a8"
             ],
             [
              0.3333333333333333,
              "#9c179e"
             ],
             [
              0.4444444444444444,
              "#bd3786"
             ],
             [
              0.5555555555555556,
              "#d8576b"
             ],
             [
              0.6666666666666666,
              "#ed7953"
             ],
             [
              0.7777777777777778,
              "#fb9f3a"
             ],
             [
              0.8888888888888888,
              "#fdca26"
             ],
             [
              1,
              "#f0f921"
             ]
            ],
            "type": "histogram2dcontour"
           }
          ],
          "mesh3d": [
           {
            "colorbar": {
             "outlinewidth": 0,
             "ticks": ""
            },
            "type": "mesh3d"
           }
          ],
          "parcoords": [
           {
            "line": {
             "colorbar": {
              "outlinewidth": 0,
              "ticks": ""
             }
            },
            "type": "parcoords"
           }
          ],
          "pie": [
           {
            "automargin": true,
            "type": "pie"
           }
          ],
          "scatter": [
           {
            "marker": {
             "colorbar": {
              "outlinewidth": 0,
              "ticks": ""
             }
            },
            "type": "scatter"
           }
          ],
          "scatter3d": [
           {
            "line": {
             "colorbar": {
              "outlinewidth": 0,
              "ticks": ""
             }
            },
            "marker": {
             "colorbar": {
              "outlinewidth": 0,
              "ticks": ""
             }
            },
            "type": "scatter3d"
           }
          ],
          "scattercarpet": [
           {
            "marker": {
             "colorbar": {
              "outlinewidth": 0,
              "ticks": ""
             }
            },
            "type": "scattercarpet"
           }
          ],
          "scattergeo": [
           {
            "marker": {
             "colorbar": {
              "outlinewidth": 0,
              "ticks": ""
             }
            },
            "type": "scattergeo"
           }
          ],
          "scattergl": [
           {
            "marker": {
             "colorbar": {
              "outlinewidth": 0,
              "ticks": ""
             }
            },
            "type": "scattergl"
           }
          ],
          "scattermapbox": [
           {
            "marker": {
             "colorbar": {
              "outlinewidth": 0,
              "ticks": ""
             }
            },
            "type": "scattermapbox"
           }
          ],
          "scatterpolar": [
           {
            "marker": {
             "colorbar": {
              "outlinewidth": 0,
              "ticks": ""
             }
            },
            "type": "scatterpolar"
           }
          ],
          "scatterpolargl": [
           {
            "marker": {
             "colorbar": {
              "outlinewidth": 0,
              "ticks": ""
             }
            },
            "type": "scatterpolargl"
           }
          ],
          "scatterternary": [
           {
            "marker": {
             "colorbar": {
              "outlinewidth": 0,
              "ticks": ""
             }
            },
            "type": "scatterternary"
           }
          ],
          "surface": [
           {
            "colorbar": {
             "outlinewidth": 0,
             "ticks": ""
            },
            "colorscale": [
             [
              0,
              "#0d0887"
             ],
             [
              0.1111111111111111,
              "#46039f"
             ],
             [
              0.2222222222222222,
              "#7201a8"
             ],
             [
              0.3333333333333333,
              "#9c179e"
             ],
             [
              0.4444444444444444,
              "#bd3786"
             ],
             [
              0.5555555555555556,
              "#d8576b"
             ],
             [
              0.6666666666666666,
              "#ed7953"
             ],
             [
              0.7777777777777778,
              "#fb9f3a"
             ],
             [
              0.8888888888888888,
              "#fdca26"
             ],
             [
              1,
              "#f0f921"
             ]
            ],
            "type": "surface"
           }
          ],
          "table": [
           {
            "cells": {
             "fill": {
              "color": "#EBF0F8"
             },
             "line": {
              "color": "white"
             }
            },
            "header": {
             "fill": {
              "color": "#C8D4E3"
             },
             "line": {
              "color": "white"
             }
            },
            "type": "table"
           }
          ]
         },
         "layout": {
          "annotationdefaults": {
           "arrowcolor": "#2a3f5f",
           "arrowhead": 0,
           "arrowwidth": 1
          },
          "coloraxis": {
           "colorbar": {
            "outlinewidth": 0,
            "ticks": ""
           }
          },
          "colorscale": {
           "diverging": [
            [
             0,
             "#8e0152"
            ],
            [
             0.1,
             "#c51b7d"
            ],
            [
             0.2,
             "#de77ae"
            ],
            [
             0.3,
             "#f1b6da"
            ],
            [
             0.4,
             "#fde0ef"
            ],
            [
             0.5,
             "#f7f7f7"
            ],
            [
             0.6,
             "#e6f5d0"
            ],
            [
             0.7,
             "#b8e186"
            ],
            [
             0.8,
             "#7fbc41"
            ],
            [
             0.9,
             "#4d9221"
            ],
            [
             1,
             "#276419"
            ]
           ],
           "sequential": [
            [
             0,
             "#0d0887"
            ],
            [
             0.1111111111111111,
             "#46039f"
            ],
            [
             0.2222222222222222,
             "#7201a8"
            ],
            [
             0.3333333333333333,
             "#9c179e"
            ],
            [
             0.4444444444444444,
             "#bd3786"
            ],
            [
             0.5555555555555556,
             "#d8576b"
            ],
            [
             0.6666666666666666,
             "#ed7953"
            ],
            [
             0.7777777777777778,
             "#fb9f3a"
            ],
            [
             0.8888888888888888,
             "#fdca26"
            ],
            [
             1,
             "#f0f921"
            ]
           ],
           "sequentialminus": [
            [
             0,
             "#0d0887"
            ],
            [
             0.1111111111111111,
             "#46039f"
            ],
            [
             0.2222222222222222,
             "#7201a8"
            ],
            [
             0.3333333333333333,
             "#9c179e"
            ],
            [
             0.4444444444444444,
             "#bd3786"
            ],
            [
             0.5555555555555556,
             "#d8576b"
            ],
            [
             0.6666666666666666,
             "#ed7953"
            ],
            [
             0.7777777777777778,
             "#fb9f3a"
            ],
            [
             0.8888888888888888,
             "#fdca26"
            ],
            [
             1,
             "#f0f921"
            ]
           ]
          },
          "colorway": [
           "#636efa",
           "#EF553B",
           "#00cc96",
           "#ab63fa",
           "#FFA15A",
           "#19d3f3",
           "#FF6692",
           "#B6E880",
           "#FF97FF",
           "#FECB52"
          ],
          "font": {
           "color": "#2a3f5f"
          },
          "geo": {
           "bgcolor": "white",
           "lakecolor": "white",
           "landcolor": "#E5ECF6",
           "showlakes": true,
           "showland": true,
           "subunitcolor": "white"
          },
          "hoverlabel": {
           "align": "left"
          },
          "hovermode": "closest",
          "mapbox": {
           "style": "light"
          },
          "paper_bgcolor": "white",
          "plot_bgcolor": "#E5ECF6",
          "polar": {
           "angularaxis": {
            "gridcolor": "white",
            "linecolor": "white",
            "ticks": ""
           },
           "bgcolor": "#E5ECF6",
           "radialaxis": {
            "gridcolor": "white",
            "linecolor": "white",
            "ticks": ""
           }
          },
          "scene": {
           "xaxis": {
            "backgroundcolor": "#E5ECF6",
            "gridcolor": "white",
            "gridwidth": 2,
            "linecolor": "white",
            "showbackground": true,
            "ticks": "",
            "zerolinecolor": "white"
           },
           "yaxis": {
            "backgroundcolor": "#E5ECF6",
            "gridcolor": "white",
            "gridwidth": 2,
            "linecolor": "white",
            "showbackground": true,
            "ticks": "",
            "zerolinecolor": "white"
           },
           "zaxis": {
            "backgroundcolor": "#E5ECF6",
            "gridcolor": "white",
            "gridwidth": 2,
            "linecolor": "white",
            "showbackground": true,
            "ticks": "",
            "zerolinecolor": "white"
           }
          },
          "shapedefaults": {
           "line": {
            "color": "#2a3f5f"
           }
          },
          "ternary": {
           "aaxis": {
            "gridcolor": "white",
            "linecolor": "white",
            "ticks": ""
           },
           "baxis": {
            "gridcolor": "white",
            "linecolor": "white",
            "ticks": ""
           },
           "bgcolor": "#E5ECF6",
           "caxis": {
            "gridcolor": "white",
            "linecolor": "white",
            "ticks": ""
           }
          },
          "title": {
           "x": 0.05
          },
          "xaxis": {
           "automargin": true,
           "gridcolor": "white",
           "linecolor": "white",
           "ticks": "",
           "title": {
            "standoff": 15
           },
           "zerolinecolor": "white",
           "zerolinewidth": 2
          },
          "yaxis": {
           "automargin": true,
           "gridcolor": "white",
           "linecolor": "white",
           "ticks": "",
           "title": {
            "standoff": 15
           },
           "zerolinecolor": "white",
           "zerolinewidth": 2
          }
         }
        },
        "xaxis": {
         "anchor": "y",
         "domain": [
          0,
          1
         ],
         "title": {
          "text": "country"
         }
        },
        "yaxis": {
         "anchor": "x",
         "domain": [
          0,
          1
         ],
         "title": {
          "text": "basic_expenditure"
         }
        }
       }
      }
     },
     "metadata": {},
     "output_type": "display_data"
    }
   ],
   "source": [
    "#BEGIN CUSTOM CODE BELOW...\n",
    "\n",
    "#put your output in this response param for connecting to downstream widgets\n",
    "#step_4 = \"\"\"\n",
    "# Below codestring is used to perform detailed analysis on quantity of sales done over time. \n",
    "\n",
    "import plotly.express as px\n",
    "import pandas as pd\n",
    "import json\n",
    "from io import StringIO\n",
    "import plotly.io as io\n",
    "\n",
    "\n",
    "def getLogger():\n",
    "    import logging\n",
    "    logging.basicConfig(filename=\"UIACLogger.log\",\n",
    "                        format='%(asctime)s %(message)s',\n",
    "                        filemode='a')\n",
    "    logger = logging.getLogger()\n",
    "    logger.setLevel(logging.DEBUG)\n",
    "    return logger\n",
    "\n",
    "\n",
    "logger = getLogger()\n",
    "\n",
    "\n",
    "def fiile_read(blob_name):\n",
    "    #reading the file from azure blob storage container\n",
    "    logger.info(f\"Read dataset file: {blob_name}\")\n",
    "    try:\n",
    "        from azure.storage.blob import BlockBlobService\n",
    "        sas_token = '?sv=2021-04-10&st=2022-12-22T08%3A12%3A47Z&se=2023-12-30T08%3A12%3A00Z&sr=c&sp=racwl&sig=fMeYkXsCvwK%2F0qVrCmj2j3NiMricQjOPWOkAEXekIPA%3D'\n",
    "        account_name = 'willbedeletedsoon'\n",
    "        container_name = 'codx-pede-s02'\n",
    "        #blob_name = 'cost-of-living_v2_I0869'\n",
    "        def get_data_from_blob(sas_token, account_name, container_name, blob_name):\n",
    "            block_blob_service = BlockBlobService(account_name=account_name, sas_token= sas_token)\n",
    "            from_blob = block_blob_service.get_blob_to_text(container_name = container_name, blob_name=blob_name)\n",
    "            return pd.read_csv(StringIO(from_blob.content))\n",
    "        input_df=get_data_from_blob(sas_token, account_name, container_name, blob_name)\n",
    "        #filtering out empty columns\n",
    "        input_df = input_df[input_df.x2.notnull()]\n",
    "        input_df = input_df[input_df.x23.notnull()]\n",
    "        input_df = input_df[input_df.x33.notnull()]\n",
    "        input_df = input_df[input_df.x54.notnull()]\n",
    "        data_good = input_df[input_df[\"data_quality\"] == 1]\n",
    "        \n",
    "        ##print(data_good)\n",
    "        return(input_df)\n",
    "    except Exception as error_msg:\n",
    "        logger.info(f\"Exception occured while reading the dataset: {blob_name}\"\n",
    "                    f\"Error Info is  {error_msg}\")\n",
    "\n",
    "\n",
    "def getGraph(dframe, filters):\n",
    "    logger.info(\n",
    "        \"Preparing bar graph json to understand basic_expenditure across all countries\")\n",
    "    column_names = ['x48', 'x38', 'x37', 'x36', 'x33', 'x8', 'x29']\n",
    "    #print(dframe['country'])\n",
    "    data_good = dframe[dframe[\"data_quality\"] == 1]\n",
    "    data_good['basic_expenditure']= data_good[column_names].sum(axis=1)\n",
    "    for item in filters:\n",
    "        if 'All' in filters[item]:\n",
    "            continue\n",
    "        elif isinstance(filters[item], list):\n",
    "            data_good = data_good[data_good[item].isin(filters[item])]\n",
    "        else:\n",
    "            data_good = data_good[data_good[item] == filters[item]]\n",
    "    #fig = px.bar(data_good, x='basic_expenditure', y='country') #, color='city'\n",
    "    fig = px.scatter(data_good, y='basic_expenditure', x='country')\n",
    "    #print(data_good[['basic_expenditure','country']].where(data_good['country'] == 'Denmark')) #--here3\n",
    "    data_good1 = data_good[data_good['country'] == 'Denmark']\n",
    "    print(data_good1)\n",
    "    fig.show()\n",
    "    logger.info(\n",
    "        \"Successfully prepared bar graph json to understand basic_expenditure across all countries\")\n",
    "    return io.to_json(fig)\n",
    "\n",
    "\n",
    "selected_filters = {\"country\": ['India','Denmark']}\n",
    "dframe = fiile_read(\"cost-of-living_v2_I0869.csv\")\n",
    "#dframe = dframe.groupby(['country'])\n",
    "dynamic_outputs = getGraph(dframe, selected_filters)#here11\n",
    "\n",
    "#\"\"\"\n",
    "# #END CUSTOM CODE"
   ]
  },
  {
   "cell_type": "code",
   "execution_count": 28,
   "metadata": {},
   "outputs": [
    {
     "data": {
      "application/vnd.plotly.v1+json": {
       "config": {
        "plotlyServerURL": "https://plot.ly"
       },
       "data": [
        {
         "hovertemplate": "X=%{x}<br>Y=%{y}<extra></extra>",
         "legendgroup": "",
         "marker": {
          "color": "#636efa",
          "symbol": "circle"
         },
         "mode": "markers",
         "name": "",
         "orientation": "v",
         "showlegend": false,
         "type": "scatter",
         "x": [
          89,
          26,
          87,
          57,
          99,
          9,
          83,
          1,
          31,
          10,
          72,
          21,
          42,
          32,
          53,
          89,
          48,
          90,
          6,
          70,
          84,
          19,
          84,
          82,
          95,
          42,
          77,
          74,
          30,
          83,
          10,
          48,
          52,
          23,
          5,
          63,
          41,
          98,
          45,
          2,
          33,
          83,
          95,
          91,
          81,
          21,
          62,
          50,
          39,
          59,
          91,
          61,
          17,
          29,
          22,
          14,
          92,
          48,
          16,
          82,
          30,
          85,
          75,
          35,
          21,
          97,
          69,
          38,
          59,
          82,
          9,
          91,
          38,
          80,
          20,
          58,
          93,
          47,
          76,
          14,
          23,
          99,
          11,
          75,
          70,
          52,
          51,
          13,
          48,
          13,
          6,
          82,
          30,
          8,
          32,
          46,
          38,
          1,
          77,
          94
         ],
         "xaxis": "x",
         "y": [
          7921,
          676,
          7569,
          3249,
          9801,
          81,
          6889,
          1,
          961,
          100,
          5184,
          441,
          1764,
          1024,
          2809,
          7921,
          2304,
          8100,
          36,
          4900,
          7056,
          361,
          7056,
          6724,
          9025,
          1764,
          5929,
          5476,
          900,
          6889,
          100,
          2304,
          2704,
          529,
          25,
          3969,
          1681,
          9604,
          2025,
          4,
          1089,
          6889,
          9025,
          8281,
          6561,
          441,
          3844,
          2500,
          1521,
          3481,
          8281,
          3721,
          289,
          841,
          484,
          196,
          8464,
          2304,
          256,
          6724,
          900,
          7225,
          5625,
          1225,
          441,
          9409,
          4761,
          1444,
          3481,
          6724,
          81,
          8281,
          1444,
          6400,
          400,
          3364,
          8649,
          2209,
          5776,
          196,
          529,
          9801,
          121,
          5625,
          4900,
          2704,
          2601,
          169,
          2304,
          169,
          36,
          6724,
          900,
          64,
          1024,
          2116,
          1444,
          1,
          5929,
          8836
         ],
         "yaxis": "y"
        }
       ],
       "layout": {
        "legend": {
         "tracegroupgap": 0
        },
        "margin": {
         "t": 60
        },
        "template": {
         "data": {
          "bar": [
           {
            "error_x": {
             "color": "#2a3f5f"
            },
            "error_y": {
             "color": "#2a3f5f"
            },
            "marker": {
             "line": {
              "color": "#E5ECF6",
              "width": 0.5
             }
            },
            "type": "bar"
           }
          ],
          "barpolar": [
           {
            "marker": {
             "line": {
              "color": "#E5ECF6",
              "width": 0.5
             }
            },
            "type": "barpolar"
           }
          ],
          "carpet": [
           {
            "aaxis": {
             "endlinecolor": "#2a3f5f",
             "gridcolor": "white",
             "linecolor": "white",
             "minorgridcolor": "white",
             "startlinecolor": "#2a3f5f"
            },
            "baxis": {
             "endlinecolor": "#2a3f5f",
             "gridcolor": "white",
             "linecolor": "white",
             "minorgridcolor": "white",
             "startlinecolor": "#2a3f5f"
            },
            "type": "carpet"
           }
          ],
          "choropleth": [
           {
            "colorbar": {
             "outlinewidth": 0,
             "ticks": ""
            },
            "type": "choropleth"
           }
          ],
          "contour": [
           {
            "colorbar": {
             "outlinewidth": 0,
             "ticks": ""
            },
            "colorscale": [
             [
              0,
              "#0d0887"
             ],
             [
              0.1111111111111111,
              "#46039f"
             ],
             [
              0.2222222222222222,
              "#7201a8"
             ],
             [
              0.3333333333333333,
              "#9c179e"
             ],
             [
              0.4444444444444444,
              "#bd3786"
             ],
             [
              0.5555555555555556,
              "#d8576b"
             ],
             [
              0.6666666666666666,
              "#ed7953"
             ],
             [
              0.7777777777777778,
              "#fb9f3a"
             ],
             [
              0.8888888888888888,
              "#fdca26"
             ],
             [
              1,
              "#f0f921"
             ]
            ],
            "type": "contour"
           }
          ],
          "contourcarpet": [
           {
            "colorbar": {
             "outlinewidth": 0,
             "ticks": ""
            },
            "type": "contourcarpet"
           }
          ],
          "heatmap": [
           {
            "colorbar": {
             "outlinewidth": 0,
             "ticks": ""
            },
            "colorscale": [
             [
              0,
              "#0d0887"
             ],
             [
              0.1111111111111111,
              "#46039f"
             ],
             [
              0.2222222222222222,
              "#7201a8"
             ],
             [
              0.3333333333333333,
              "#9c179e"
             ],
             [
              0.4444444444444444,
              "#bd3786"
             ],
             [
              0.5555555555555556,
              "#d8576b"
             ],
             [
              0.6666666666666666,
              "#ed7953"
             ],
             [
              0.7777777777777778,
              "#fb9f3a"
             ],
             [
              0.8888888888888888,
              "#fdca26"
             ],
             [
              1,
              "#f0f921"
             ]
            ],
            "type": "heatmap"
           }
          ],
          "heatmapgl": [
           {
            "colorbar": {
             "outlinewidth": 0,
             "ticks": ""
            },
            "colorscale": [
             [
              0,
              "#0d0887"
             ],
             [
              0.1111111111111111,
              "#46039f"
             ],
             [
              0.2222222222222222,
              "#7201a8"
             ],
             [
              0.3333333333333333,
              "#9c179e"
             ],
             [
              0.4444444444444444,
              "#bd3786"
             ],
             [
              0.5555555555555556,
              "#d8576b"
             ],
             [
              0.6666666666666666,
              "#ed7953"
             ],
             [
              0.7777777777777778,
              "#fb9f3a"
             ],
             [
              0.8888888888888888,
              "#fdca26"
             ],
             [
              1,
              "#f0f921"
             ]
            ],
            "type": "heatmapgl"
           }
          ],
          "histogram": [
           {
            "marker": {
             "colorbar": {
              "outlinewidth": 0,
              "ticks": ""
             }
            },
            "type": "histogram"
           }
          ],
          "histogram2d": [
           {
            "colorbar": {
             "outlinewidth": 0,
             "ticks": ""
            },
            "colorscale": [
             [
              0,
              "#0d0887"
             ],
             [
              0.1111111111111111,
              "#46039f"
             ],
             [
              0.2222222222222222,
              "#7201a8"
             ],
             [
              0.3333333333333333,
              "#9c179e"
             ],
             [
              0.4444444444444444,
              "#bd3786"
             ],
             [
              0.5555555555555556,
              "#d8576b"
             ],
             [
              0.6666666666666666,
              "#ed7953"
             ],
             [
              0.7777777777777778,
              "#fb9f3a"
             ],
             [
              0.8888888888888888,
              "#fdca26"
             ],
             [
              1,
              "#f0f921"
             ]
            ],
            "type": "histogram2d"
           }
          ],
          "histogram2dcontour": [
           {
            "colorbar": {
             "outlinewidth": 0,
             "ticks": ""
            },
            "colorscale": [
             [
              0,
              "#0d0887"
             ],
             [
              0.1111111111111111,
              "#46039f"
             ],
             [
              0.2222222222222222,
              "#7201a8"
             ],
             [
              0.3333333333333333,
              "#9c179e"
             ],
             [
              0.4444444444444444,
              "#bd3786"
             ],
             [
              0.5555555555555556,
              "#d8576b"
             ],
             [
              0.6666666666666666,
              "#ed7953"
             ],
             [
              0.7777777777777778,
              "#fb9f3a"
             ],
             [
              0.8888888888888888,
              "#fdca26"
             ],
             [
              1,
              "#f0f921"
             ]
            ],
            "type": "histogram2dcontour"
           }
          ],
          "mesh3d": [
           {
            "colorbar": {
             "outlinewidth": 0,
             "ticks": ""
            },
            "type": "mesh3d"
           }
          ],
          "parcoords": [
           {
            "line": {
             "colorbar": {
              "outlinewidth": 0,
              "ticks": ""
             }
            },
            "type": "parcoords"
           }
          ],
          "pie": [
           {
            "automargin": true,
            "type": "pie"
           }
          ],
          "scatter": [
           {
            "marker": {
             "colorbar": {
              "outlinewidth": 0,
              "ticks": ""
             }
            },
            "type": "scatter"
           }
          ],
          "scatter3d": [
           {
            "line": {
             "colorbar": {
              "outlinewidth": 0,
              "ticks": ""
             }
            },
            "marker": {
             "colorbar": {
              "outlinewidth": 0,
              "ticks": ""
             }
            },
            "type": "scatter3d"
           }
          ],
          "scattercarpet": [
           {
            "marker": {
             "colorbar": {
              "outlinewidth": 0,
              "ticks": ""
             }
            },
            "type": "scattercarpet"
           }
          ],
          "scattergeo": [
           {
            "marker": {
             "colorbar": {
              "outlinewidth": 0,
              "ticks": ""
             }
            },
            "type": "scattergeo"
           }
          ],
          "scattergl": [
           {
            "marker": {
             "colorbar": {
              "outlinewidth": 0,
              "ticks": ""
             }
            },
            "type": "scattergl"
           }
          ],
          "scattermapbox": [
           {
            "marker": {
             "colorbar": {
              "outlinewidth": 0,
              "ticks": ""
             }
            },
            "type": "scattermapbox"
           }
          ],
          "scatterpolar": [
           {
            "marker": {
             "colorbar": {
              "outlinewidth": 0,
              "ticks": ""
             }
            },
            "type": "scatterpolar"
           }
          ],
          "scatterpolargl": [
           {
            "marker": {
             "colorbar": {
              "outlinewidth": 0,
              "ticks": ""
             }
            },
            "type": "scatterpolargl"
           }
          ],
          "scatterternary": [
           {
            "marker": {
             "colorbar": {
              "outlinewidth": 0,
              "ticks": ""
             }
            },
            "type": "scatterternary"
           }
          ],
          "surface": [
           {
            "colorbar": {
             "outlinewidth": 0,
             "ticks": ""
            },
            "colorscale": [
             [
              0,
              "#0d0887"
             ],
             [
              0.1111111111111111,
              "#46039f"
             ],
             [
              0.2222222222222222,
              "#7201a8"
             ],
             [
              0.3333333333333333,
              "#9c179e"
             ],
             [
              0.4444444444444444,
              "#bd3786"
             ],
             [
              0.5555555555555556,
              "#d8576b"
             ],
             [
              0.6666666666666666,
              "#ed7953"
             ],
             [
              0.7777777777777778,
              "#fb9f3a"
             ],
             [
              0.8888888888888888,
              "#fdca26"
             ],
             [
              1,
              "#f0f921"
             ]
            ],
            "type": "surface"
           }
          ],
          "table": [
           {
            "cells": {
             "fill": {
              "color": "#EBF0F8"
             },
             "line": {
              "color": "white"
             }
            },
            "header": {
             "fill": {
              "color": "#C8D4E3"
             },
             "line": {
              "color": "white"
             }
            },
            "type": "table"
           }
          ]
         },
         "layout": {
          "annotationdefaults": {
           "arrowcolor": "#2a3f5f",
           "arrowhead": 0,
           "arrowwidth": 1
          },
          "coloraxis": {
           "colorbar": {
            "outlinewidth": 0,
            "ticks": ""
           }
          },
          "colorscale": {
           "diverging": [
            [
             0,
             "#8e0152"
            ],
            [
             0.1,
             "#c51b7d"
            ],
            [
             0.2,
             "#de77ae"
            ],
            [
             0.3,
             "#f1b6da"
            ],
            [
             0.4,
             "#fde0ef"
            ],
            [
             0.5,
             "#f7f7f7"
            ],
            [
             0.6,
             "#e6f5d0"
            ],
            [
             0.7,
             "#b8e186"
            ],
            [
             0.8,
             "#7fbc41"
            ],
            [
             0.9,
             "#4d9221"
            ],
            [
             1,
             "#276419"
            ]
           ],
           "sequential": [
            [
             0,
             "#0d0887"
            ],
            [
             0.1111111111111111,
             "#46039f"
            ],
            [
             0.2222222222222222,
             "#7201a8"
            ],
            [
             0.3333333333333333,
             "#9c179e"
            ],
            [
             0.4444444444444444,
             "#bd3786"
            ],
            [
             0.5555555555555556,
             "#d8576b"
            ],
            [
             0.6666666666666666,
             "#ed7953"
            ],
            [
             0.7777777777777778,
             "#fb9f3a"
            ],
            [
             0.8888888888888888,
             "#fdca26"
            ],
            [
             1,
             "#f0f921"
            ]
           ],
           "sequentialminus": [
            [
             0,
             "#0d0887"
            ],
            [
             0.1111111111111111,
             "#46039f"
            ],
            [
             0.2222222222222222,
             "#7201a8"
            ],
            [
             0.3333333333333333,
             "#9c179e"
            ],
            [
             0.4444444444444444,
             "#bd3786"
            ],
            [
             0.5555555555555556,
             "#d8576b"
            ],
            [
             0.6666666666666666,
             "#ed7953"
            ],
            [
             0.7777777777777778,
             "#fb9f3a"
            ],
            [
             0.8888888888888888,
             "#fdca26"
            ],
            [
             1,
             "#f0f921"
            ]
           ]
          },
          "colorway": [
           "#636efa",
           "#EF553B",
           "#00cc96",
           "#ab63fa",
           "#FFA15A",
           "#19d3f3",
           "#FF6692",
           "#B6E880",
           "#FF97FF",
           "#FECB52"
          ],
          "font": {
           "color": "#2a3f5f"
          },
          "geo": {
           "bgcolor": "white",
           "lakecolor": "white",
           "landcolor": "#E5ECF6",
           "showlakes": true,
           "showland": true,
           "subunitcolor": "white"
          },
          "hoverlabel": {
           "align": "left"
          },
          "hovermode": "closest",
          "mapbox": {
           "style": "light"
          },
          "paper_bgcolor": "white",
          "plot_bgcolor": "#E5ECF6",
          "polar": {
           "angularaxis": {
            "gridcolor": "white",
            "linecolor": "white",
            "ticks": ""
           },
           "bgcolor": "#E5ECF6",
           "radialaxis": {
            "gridcolor": "white",
            "linecolor": "white",
            "ticks": ""
           }
          },
          "scene": {
           "xaxis": {
            "backgroundcolor": "#E5ECF6",
            "gridcolor": "white",
            "gridwidth": 2,
            "linecolor": "white",
            "showbackground": true,
            "ticks": "",
            "zerolinecolor": "white"
           },
           "yaxis": {
            "backgroundcolor": "#E5ECF6",
            "gridcolor": "white",
            "gridwidth": 2,
            "linecolor": "white",
            "showbackground": true,
            "ticks": "",
            "zerolinecolor": "white"
           },
           "zaxis": {
            "backgroundcolor": "#E5ECF6",
            "gridcolor": "white",
            "gridwidth": 2,
            "linecolor": "white",
            "showbackground": true,
            "ticks": "",
            "zerolinecolor": "white"
           }
          },
          "shapedefaults": {
           "line": {
            "color": "#2a3f5f"
           }
          },
          "ternary": {
           "aaxis": {
            "gridcolor": "white",
            "linecolor": "white",
            "ticks": ""
           },
           "baxis": {
            "gridcolor": "white",
            "linecolor": "white",
            "ticks": ""
           },
           "bgcolor": "#E5ECF6",
           "caxis": {
            "gridcolor": "white",
            "linecolor": "white",
            "ticks": ""
           }
          },
          "title": {
           "x": 0.05
          },
          "xaxis": {
           "automargin": true,
           "gridcolor": "white",
           "linecolor": "white",
           "ticks": "",
           "title": {
            "standoff": 15
           },
           "zerolinecolor": "white",
           "zerolinewidth": 2
          },
          "yaxis": {
           "automargin": true,
           "gridcolor": "white",
           "linecolor": "white",
           "ticks": "",
           "title": {
            "standoff": 15
           },
           "zerolinecolor": "white",
           "zerolinewidth": 2
          }
         }
        },
        "xaxis": {
         "anchor": "y",
         "domain": [
          0,
          1
         ],
         "title": {
          "text": "X"
         }
        },
        "yaxis": {
         "anchor": "x",
         "domain": [
          0,
          1
         ],
         "title": {
          "text": "Y"
         }
        }
       }
      }
     },
     "metadata": {},
     "output_type": "display_data"
    },
    {
     "name": "stdout",
     "output_type": "stream",
     "text": [
      "     X     Y\n",
      "0   89  7921\n",
      "1   26   676\n",
      "2   87  7569\n",
      "3   57  3249\n",
      "4   99  9801\n",
      "..  ..   ...\n",
      "95  46  2116\n",
      "96  38  1444\n",
      "97   1     1\n",
      "98  77  5929\n",
      "99  94  8836\n",
      "\n",
      "[100 rows x 2 columns]\n"
     ]
    }
   ],
   "source": [
    "step_4_a =\"\"\"\n",
    "import numpy as np\n",
    "import pandas as pd\n",
    "df = pd.DataFrame(np.random.randint(0,100,size=(100, 1)), columns=list('X'))\n",
    "df = df.assign(Y = lambda x: (x['X']**2))\n",
    "fig = px.scatter(df, y='Y', x='X')\n",
    "fig.show()\n",
    "#print(df)\n",
    "#\"\"\""
   ]
  },
  {
   "cell_type": "code",
   "execution_count": 53,
   "metadata": {},
   "outputs": [
    {
     "data": {
      "application/vnd.plotly.v1+json": {
       "config": {
        "plotlyServerURL": "https://plot.ly"
       },
       "data": [
        {
         "colorscale": [
          [
           0,
           "#440154"
          ],
          [
           0.1111111111111111,
           "#482878"
          ],
          [
           0.2222222222222222,
           "#3e4989"
          ],
          [
           0.3333333333333333,
           "#31688e"
          ],
          [
           0.4444444444444444,
           "#26828e"
          ],
          [
           0.5555555555555556,
           "#1f9e89"
          ],
          [
           0.6666666666666666,
           "#35b779"
          ],
          [
           0.7777777777777778,
           "#6ece58"
          ],
          [
           0.8888888888888888,
           "#b5de2b"
          ],
          [
           1,
           "#fde725"
          ]
         ],
         "type": "surface",
         "x": [
          99,
          7,
          66,
          29,
          3,
          5,
          69,
          98,
          55,
          5,
          58,
          88,
          91,
          40,
          65,
          0,
          53,
          2,
          35,
          33,
          78,
          69,
          81,
          26,
          21,
          13,
          78,
          3,
          47,
          40,
          6,
          61,
          37,
          99,
          83,
          46,
          27,
          85,
          57,
          94,
          99,
          1,
          38,
          41,
          7,
          22,
          46,
          98,
          83,
          7,
          21,
          4,
          31,
          70,
          72,
          71,
          63,
          5,
          78,
          28,
          5,
          75,
          10,
          60,
          18,
          83,
          60,
          56,
          80,
          68,
          64,
          44,
          58,
          47,
          80,
          46,
          16,
          31,
          51,
          59,
          50,
          92,
          99,
          90,
          94,
          20,
          0,
          78,
          63,
          40,
          73,
          21,
          0,
          15,
          7,
          20,
          10,
          66,
          23,
          65
         ],
         "y": [
          9801,
          49,
          4356,
          841,
          9,
          25,
          4761,
          9604,
          3025,
          25,
          3364,
          7744,
          8281,
          1600,
          4225,
          0,
          2809,
          4,
          1225,
          1089,
          6084,
          4761,
          6561,
          676,
          441,
          169,
          6084,
          9,
          2209,
          1600,
          36,
          3721,
          1369,
          9801,
          6889,
          2116,
          729,
          7225,
          3249,
          8836,
          9801,
          1,
          1444,
          1681,
          49,
          484,
          2116,
          9604,
          6889,
          49,
          441,
          16,
          961,
          4900,
          5184,
          5041,
          3969,
          25,
          6084,
          784,
          25,
          5625,
          100,
          3600,
          324,
          6889,
          3600,
          3136,
          6400,
          4624,
          4096,
          1936,
          3364,
          2209,
          6400,
          2116,
          256,
          961,
          2601,
          3481,
          2500,
          8464,
          9801,
          8100,
          8836,
          400,
          0,
          6084,
          3969,
          1600,
          5329,
          441,
          0,
          225,
          49,
          400,
          100,
          4356,
          529,
          4225
         ]
        }
       ],
       "layout": {
        "annotations": [
         {
          "align": "left",
          "showarrow": false,
          "text": "Trace type:",
          "x": 0,
          "y": 1.085,
          "yref": "paper"
         }
        ],
        "scene": {
         "aspectmode": "manual",
         "aspectratio": {
          "x": 1,
          "y": 1,
          "z": 0.7
         }
        },
        "template": {
         "data": {
          "bar": [
           {
            "error_x": {
             "color": "#2a3f5f"
            },
            "error_y": {
             "color": "#2a3f5f"
            },
            "marker": {
             "line": {
              "color": "#E5ECF6",
              "width": 0.5
             }
            },
            "type": "bar"
           }
          ],
          "barpolar": [
           {
            "marker": {
             "line": {
              "color": "#E5ECF6",
              "width": 0.5
             }
            },
            "type": "barpolar"
           }
          ],
          "carpet": [
           {
            "aaxis": {
             "endlinecolor": "#2a3f5f",
             "gridcolor": "white",
             "linecolor": "white",
             "minorgridcolor": "white",
             "startlinecolor": "#2a3f5f"
            },
            "baxis": {
             "endlinecolor": "#2a3f5f",
             "gridcolor": "white",
             "linecolor": "white",
             "minorgridcolor": "white",
             "startlinecolor": "#2a3f5f"
            },
            "type": "carpet"
           }
          ],
          "choropleth": [
           {
            "colorbar": {
             "outlinewidth": 0,
             "ticks": ""
            },
            "type": "choropleth"
           }
          ],
          "contour": [
           {
            "colorbar": {
             "outlinewidth": 0,
             "ticks": ""
            },
            "colorscale": [
             [
              0,
              "#0d0887"
             ],
             [
              0.1111111111111111,
              "#46039f"
             ],
             [
              0.2222222222222222,
              "#7201a8"
             ],
             [
              0.3333333333333333,
              "#9c179e"
             ],
             [
              0.4444444444444444,
              "#bd3786"
             ],
             [
              0.5555555555555556,
              "#d8576b"
             ],
             [
              0.6666666666666666,
              "#ed7953"
             ],
             [
              0.7777777777777778,
              "#fb9f3a"
             ],
             [
              0.8888888888888888,
              "#fdca26"
             ],
             [
              1,
              "#f0f921"
             ]
            ],
            "type": "contour"
           }
          ],
          "contourcarpet": [
           {
            "colorbar": {
             "outlinewidth": 0,
             "ticks": ""
            },
            "type": "contourcarpet"
           }
          ],
          "heatmap": [
           {
            "colorbar": {
             "outlinewidth": 0,
             "ticks": ""
            },
            "colorscale": [
             [
              0,
              "#0d0887"
             ],
             [
              0.1111111111111111,
              "#46039f"
             ],
             [
              0.2222222222222222,
              "#7201a8"
             ],
             [
              0.3333333333333333,
              "#9c179e"
             ],
             [
              0.4444444444444444,
              "#bd3786"
             ],
             [
              0.5555555555555556,
              "#d8576b"
             ],
             [
              0.6666666666666666,
              "#ed7953"
             ],
             [
              0.7777777777777778,
              "#fb9f3a"
             ],
             [
              0.8888888888888888,
              "#fdca26"
             ],
             [
              1,
              "#f0f921"
             ]
            ],
            "type": "heatmap"
           }
          ],
          "heatmapgl": [
           {
            "colorbar": {
             "outlinewidth": 0,
             "ticks": ""
            },
            "colorscale": [
             [
              0,
              "#0d0887"
             ],
             [
              0.1111111111111111,
              "#46039f"
             ],
             [
              0.2222222222222222,
              "#7201a8"
             ],
             [
              0.3333333333333333,
              "#9c179e"
             ],
             [
              0.4444444444444444,
              "#bd3786"
             ],
             [
              0.5555555555555556,
              "#d8576b"
             ],
             [
              0.6666666666666666,
              "#ed7953"
             ],
             [
              0.7777777777777778,
              "#fb9f3a"
             ],
             [
              0.8888888888888888,
              "#fdca26"
             ],
             [
              1,
              "#f0f921"
             ]
            ],
            "type": "heatmapgl"
           }
          ],
          "histogram": [
           {
            "marker": {
             "colorbar": {
              "outlinewidth": 0,
              "ticks": ""
             }
            },
            "type": "histogram"
           }
          ],
          "histogram2d": [
           {
            "colorbar": {
             "outlinewidth": 0,
             "ticks": ""
            },
            "colorscale": [
             [
              0,
              "#0d0887"
             ],
             [
              0.1111111111111111,
              "#46039f"
             ],
             [
              0.2222222222222222,
              "#7201a8"
             ],
             [
              0.3333333333333333,
              "#9c179e"
             ],
             [
              0.4444444444444444,
              "#bd3786"
             ],
             [
              0.5555555555555556,
              "#d8576b"
             ],
             [
              0.6666666666666666,
              "#ed7953"
             ],
             [
              0.7777777777777778,
              "#fb9f3a"
             ],
             [
              0.8888888888888888,
              "#fdca26"
             ],
             [
              1,
              "#f0f921"
             ]
            ],
            "type": "histogram2d"
           }
          ],
          "histogram2dcontour": [
           {
            "colorbar": {
             "outlinewidth": 0,
             "ticks": ""
            },
            "colorscale": [
             [
              0,
              "#0d0887"
             ],
             [
              0.1111111111111111,
              "#46039f"
             ],
             [
              0.2222222222222222,
              "#7201a8"
             ],
             [
              0.3333333333333333,
              "#9c179e"
             ],
             [
              0.4444444444444444,
              "#bd3786"
             ],
             [
              0.5555555555555556,
              "#d8576b"
             ],
             [
              0.6666666666666666,
              "#ed7953"
             ],
             [
              0.7777777777777778,
              "#fb9f3a"
             ],
             [
              0.8888888888888888,
              "#fdca26"
             ],
             [
              1,
              "#f0f921"
             ]
            ],
            "type": "histogram2dcontour"
           }
          ],
          "mesh3d": [
           {
            "colorbar": {
             "outlinewidth": 0,
             "ticks": ""
            },
            "type": "mesh3d"
           }
          ],
          "parcoords": [
           {
            "line": {
             "colorbar": {
              "outlinewidth": 0,
              "ticks": ""
             }
            },
            "type": "parcoords"
           }
          ],
          "pie": [
           {
            "automargin": true,
            "type": "pie"
           }
          ],
          "scatter": [
           {
            "marker": {
             "colorbar": {
              "outlinewidth": 0,
              "ticks": ""
             }
            },
            "type": "scatter"
           }
          ],
          "scatter3d": [
           {
            "line": {
             "colorbar": {
              "outlinewidth": 0,
              "ticks": ""
             }
            },
            "marker": {
             "colorbar": {
              "outlinewidth": 0,
              "ticks": ""
             }
            },
            "type": "scatter3d"
           }
          ],
          "scattercarpet": [
           {
            "marker": {
             "colorbar": {
              "outlinewidth": 0,
              "ticks": ""
             }
            },
            "type": "scattercarpet"
           }
          ],
          "scattergeo": [
           {
            "marker": {
             "colorbar": {
              "outlinewidth": 0,
              "ticks": ""
             }
            },
            "type": "scattergeo"
           }
          ],
          "scattergl": [
           {
            "marker": {
             "colorbar": {
              "outlinewidth": 0,
              "ticks": ""
             }
            },
            "type": "scattergl"
           }
          ],
          "scattermapbox": [
           {
            "marker": {
             "colorbar": {
              "outlinewidth": 0,
              "ticks": ""
             }
            },
            "type": "scattermapbox"
           }
          ],
          "scatterpolar": [
           {
            "marker": {
             "colorbar": {
              "outlinewidth": 0,
              "ticks": ""
             }
            },
            "type": "scatterpolar"
           }
          ],
          "scatterpolargl": [
           {
            "marker": {
             "colorbar": {
              "outlinewidth": 0,
              "ticks": ""
             }
            },
            "type": "scatterpolargl"
           }
          ],
          "scatterternary": [
           {
            "marker": {
             "colorbar": {
              "outlinewidth": 0,
              "ticks": ""
             }
            },
            "type": "scatterternary"
           }
          ],
          "surface": [
           {
            "colorbar": {
             "outlinewidth": 0,
             "ticks": ""
            },
            "colorscale": [
             [
              0,
              "#0d0887"
             ],
             [
              0.1111111111111111,
              "#46039f"
             ],
             [
              0.2222222222222222,
              "#7201a8"
             ],
             [
              0.3333333333333333,
              "#9c179e"
             ],
             [
              0.4444444444444444,
              "#bd3786"
             ],
             [
              0.5555555555555556,
              "#d8576b"
             ],
             [
              0.6666666666666666,
              "#ed7953"
             ],
             [
              0.7777777777777778,
              "#fb9f3a"
             ],
             [
              0.8888888888888888,
              "#fdca26"
             ],
             [
              1,
              "#f0f921"
             ]
            ],
            "type": "surface"
           }
          ],
          "table": [
           {
            "cells": {
             "fill": {
              "color": "#EBF0F8"
             },
             "line": {
              "color": "white"
             }
            },
            "header": {
             "fill": {
              "color": "#C8D4E3"
             },
             "line": {
              "color": "white"
             }
            },
            "type": "table"
           }
          ]
         },
         "layout": {
          "annotationdefaults": {
           "arrowcolor": "#2a3f5f",
           "arrowhead": 0,
           "arrowwidth": 1
          },
          "coloraxis": {
           "colorbar": {
            "outlinewidth": 0,
            "ticks": ""
           }
          },
          "colorscale": {
           "diverging": [
            [
             0,
             "#8e0152"
            ],
            [
             0.1,
             "#c51b7d"
            ],
            [
             0.2,
             "#de77ae"
            ],
            [
             0.3,
             "#f1b6da"
            ],
            [
             0.4,
             "#fde0ef"
            ],
            [
             0.5,
             "#f7f7f7"
            ],
            [
             0.6,
             "#e6f5d0"
            ],
            [
             0.7,
             "#b8e186"
            ],
            [
             0.8,
             "#7fbc41"
            ],
            [
             0.9,
             "#4d9221"
            ],
            [
             1,
             "#276419"
            ]
           ],
           "sequential": [
            [
             0,
             "#0d0887"
            ],
            [
             0.1111111111111111,
             "#46039f"
            ],
            [
             0.2222222222222222,
             "#7201a8"
            ],
            [
             0.3333333333333333,
             "#9c179e"
            ],
            [
             0.4444444444444444,
             "#bd3786"
            ],
            [
             0.5555555555555556,
             "#d8576b"
            ],
            [
             0.6666666666666666,
             "#ed7953"
            ],
            [
             0.7777777777777778,
             "#fb9f3a"
            ],
            [
             0.8888888888888888,
             "#fdca26"
            ],
            [
             1,
             "#f0f921"
            ]
           ],
           "sequentialminus": [
            [
             0,
             "#0d0887"
            ],
            [
             0.1111111111111111,
             "#46039f"
            ],
            [
             0.2222222222222222,
             "#7201a8"
            ],
            [
             0.3333333333333333,
             "#9c179e"
            ],
            [
             0.4444444444444444,
             "#bd3786"
            ],
            [
             0.5555555555555556,
             "#d8576b"
            ],
            [
             0.6666666666666666,
             "#ed7953"
            ],
            [
             0.7777777777777778,
             "#fb9f3a"
            ],
            [
             0.8888888888888888,
             "#fdca26"
            ],
            [
             1,
             "#f0f921"
            ]
           ]
          },
          "colorway": [
           "#636efa",
           "#EF553B",
           "#00cc96",
           "#ab63fa",
           "#FFA15A",
           "#19d3f3",
           "#FF6692",
           "#B6E880",
           "#FF97FF",
           "#FECB52"
          ],
          "font": {
           "color": "#2a3f5f"
          },
          "geo": {
           "bgcolor": "white",
           "lakecolor": "white",
           "landcolor": "#E5ECF6",
           "showlakes": true,
           "showland": true,
           "subunitcolor": "white"
          },
          "hoverlabel": {
           "align": "left"
          },
          "hovermode": "closest",
          "mapbox": {
           "style": "light"
          },
          "paper_bgcolor": "white",
          "plot_bgcolor": "#E5ECF6",
          "polar": {
           "angularaxis": {
            "gridcolor": "white",
            "linecolor": "white",
            "ticks": ""
           },
           "bgcolor": "#E5ECF6",
           "radialaxis": {
            "gridcolor": "white",
            "linecolor": "white",
            "ticks": ""
           }
          },
          "scene": {
           "xaxis": {
            "backgroundcolor": "#E5ECF6",
            "gridcolor": "white",
            "gridwidth": 2,
            "linecolor": "white",
            "showbackground": true,
            "ticks": "",
            "zerolinecolor": "white"
           },
           "yaxis": {
            "backgroundcolor": "#E5ECF6",
            "gridcolor": "white",
            "gridwidth": 2,
            "linecolor": "white",
            "showbackground": true,
            "ticks": "",
            "zerolinecolor": "white"
           },
           "zaxis": {
            "backgroundcolor": "#E5ECF6",
            "gridcolor": "white",
            "gridwidth": 2,
            "linecolor": "white",
            "showbackground": true,
            "ticks": "",
            "zerolinecolor": "white"
           }
          },
          "shapedefaults": {
           "line": {
            "color": "#2a3f5f"
           }
          },
          "ternary": {
           "aaxis": {
            "gridcolor": "white",
            "linecolor": "white",
            "ticks": ""
           },
           "baxis": {
            "gridcolor": "white",
            "linecolor": "white",
            "ticks": ""
           },
           "bgcolor": "#E5ECF6",
           "caxis": {
            "gridcolor": "white",
            "linecolor": "white",
            "ticks": ""
           }
          },
          "title": {
           "x": 0.05
          },
          "xaxis": {
           "automargin": true,
           "gridcolor": "white",
           "linecolor": "white",
           "ticks": "",
           "title": {
            "standoff": 15
           },
           "zerolinecolor": "white",
           "zerolinewidth": 2
          },
          "yaxis": {
           "automargin": true,
           "gridcolor": "white",
           "linecolor": "white",
           "ticks": "",
           "title": {
            "standoff": 15
           },
           "zerolinecolor": "white",
           "zerolinewidth": 2
          }
         }
        },
        "updatemenus": [
         {
          "buttons": [
           {
            "args": [
             "type",
             "bar"
            ],
            "label": "bar",
            "method": "restyle"
           },
           {
            "args": [
             "type",
             "box"
            ],
            "label": "box",
            "method": "restyle"
           }
          ],
          "direction": "down",
          "pad": {
           "r": 10,
           "t": 10
          },
          "showactive": true,
          "x": 0.1,
          "xanchor": "left",
          "y": 1.1,
          "yanchor": "top"
         }
        ]
       }
      }
     },
     "metadata": {},
     "output_type": "display_data"
    }
   ],
   "source": [
    "#step_5 =\"\"\"\n",
    "\n",
    "#\"\"\"import plotly.graph_objects as go\n",
    "\n",
    "import pandas as pd\n",
    "import numpy as np\n",
    "import plotly.graph_objects as go\n",
    "# load dataset\n",
    "df = pd.DataFrame(np.random.randint(0,100,size=(100, 1)), columns=list('X'))\n",
    "df = df.assign(Y = lambda x: (x['X']**2))\n",
    "#df = pd.read_csv(\"https://raw.githubusercontent.com/plotly/datasets/master/volcano.csv\")\n",
    "#print(df)\n",
    "# create figure\n",
    "fig = go.Figure()\n",
    "\n",
    "# Add surface trace\n",
    "fig.add_trace(go.Surface(  x=df.X,y=df.Y, colorscale=\"Viridis\"))\n",
    "\n",
    "# # Update plot sizing\n",
    "# fig.update_layout(\n",
    "#     width=800,\n",
    "#     height=900,\n",
    "#     autosize=False,\n",
    "#     margin=dict(t=0, b=0, l=0, r=0),\n",
    "#     template=\"plotly_white\",\n",
    "# )\n",
    "\n",
    "# Update 3D scene options\n",
    "fig.update_scenes(\n",
    "    aspectratio=dict(x=1, y=1, z=0.7),\n",
    "    aspectmode=\"manual\"\n",
    ")\n",
    "\n",
    "# Add dropdown\n",
    "fig.update_layout(\n",
    "    updatemenus=[\n",
    "        dict(\n",
    "            buttons=list([\n",
    "                dict(\n",
    "                    args=[\"type\", \"bar\"],\n",
    "                    label=\"bar\",\n",
    "                    method=\"restyle\"\n",
    "                ),\n",
    "                dict(\n",
    "                    args=[\"type\", \"box\"],\n",
    "                    label=\"box\",\n",
    "                    method=\"restyle\"\n",
    "                )\n",
    "            ]),\n",
    "            direction=\"down\",\n",
    "            pad={\"r\": 10, \"t\": 10},\n",
    "            showactive=True,\n",
    "            x=0.1,\n",
    "            xanchor=\"left\",\n",
    "            y=1.1,\n",
    "            yanchor=\"top\"\n",
    "        ),\n",
    "    ]\n",
    ")\n",
    "\n",
    "# Add annotation\n",
    "fig.update_layout(\n",
    "    annotations=[\n",
    "        dict(text=\"Trace type:\", showarrow=False,\n",
    "        x=0, y=1.085, yref=\"paper\", align=\"left\")\n",
    "    ]\n",
    ")\n",
    "\n",
    "fig.show()"
   ]
  },
  {
   "cell_type": "code",
   "execution_count": 4,
   "metadata": {},
   "outputs": [],
   "source": [
    "#BEGIN CUSTOM CODE BELOW...\n",
    "\n",
    "#put your output in this response param for connecting to downstream widgets\n",
    "historicScreenActionGen = \"\"\"\n",
    "# Below codestring is used to create action generator that triggers action handler  to display breadcrumbs \n",
    "# to show total units of product sale over time.\n",
    "\n",
    "import pandas as pd\n",
    "import json\n",
    "from io import StringIO\n",
    "\n",
    "\n",
    "def getLogger():\n",
    "    import logging\n",
    "    logging.basicConfig(filename=\"UIACLogger.log\",\n",
    "                        format='%(asctime)s %(message)s',\n",
    "                        filemode='a')\n",
    "    logger = logging.getLogger()\n",
    "    logger.setLevel(logging.DEBUG)\n",
    "    return logger\n",
    "\n",
    "\n",
    "logger = getLogger()\n",
    "\n",
    "\n",
    "def get_action_generator():\n",
    "    logger.info(f\"Preparing action generator json for Historical screen\")\n",
    "    action_generator = {\n",
    "        \"actions\": [{\n",
    "            \"action_type\": \"get_screen_breadcrumbs\",\n",
    "            \"component_type\": \"text_list\",\n",
    "            \"params\": {\n",
    "                \"fetch_on_load\": True\n",
    "            },\n",
    "            \"position\": {\n",
    "                \"portal\": \"screen_top_left\"\n",
    "            }\n",
    "        }]\n",
    "    }\n",
    "\n",
    "    logger.info(\n",
    "        f\"Successfully prepared action generator json for Historical screen\")\n",
    "    return action_generator\n",
    "\n",
    "\n",
    "res = get_action_generator()\n",
    "dynamic_outputs = json.dumps(res)\n",
    "\n",
    "\"\"\"\n",
    "#END CUSTOM CODE"
   ]
  },
  {
   "cell_type": "code",
   "execution_count": 5,
   "metadata": {},
   "outputs": [],
   "source": [
    "#put your output in this response param for connecting to downstream widgets\n",
    "\n",
    "historicScreenActionHandler = \"\"\"\n",
    "# Below codestring is used to generate json for breadcrumbs to display total number units of sales done over time.\n",
    "\n",
    "import pandas as pd\n",
    "import json\n",
    "from io import StringIO\n",
    "\n",
    "\n",
    "def getLogger():\n",
    "    import logging\n",
    "    logging.basicConfig(filename=\"UIACLogger.log\",\n",
    "                        format='%(asctime)s %(message)s',\n",
    "                        filemode='a')\n",
    "    logger = logging.getLogger()\n",
    "    logger.setLevel(logging.DEBUG)\n",
    "    return logger\n",
    "\n",
    "\n",
    "logger = getLogger()\n",
    "\n",
    "\n",
    "def fiile_read(blob_name):\n",
    "    #reading the file from azure blob storage container\n",
    "    logger.info(f\"Read dataset file: {blob_name}\")\n",
    "    try:\n",
    "        from azure.storage.blob import BlockBlobService\n",
    "        sas_token = '?sv=2021-04-10&st=2022-12-22T08%3A12%3A47Z&se=2023-12-30T08%3A12%3A00Z&sr=c&sp=racwl&sig=fMeYkXsCvwK%2F0qVrCmj2j3NiMricQjOPWOkAEXekIPA%3D'\n",
    "        account_name = 'willbedeletedsoon'\n",
    "        container_name = 'codx-pede-s02'\n",
    "        #blob_name = 'cost-of-living_v2_I0869'\n",
    "        def get_data_from_blob(sas_token, account_name, container_name, blob_name):\n",
    "            block_blob_service = BlockBlobService(account_name=account_name, sas_token= sas_token)\n",
    "            from_blob = block_blob_service.get_blob_to_text(container_name = container_name, blob_name=blob_name)\n",
    "            return pd.read_csv(StringIO(from_blob.content))\n",
    "        input_df=get_data_from_blob(sas_token, account_name, container_name, blob_name)\n",
    "        #filtering out empty columns\n",
    "        input_df = input_df[input_df.x2.notnull()]\n",
    "        input_df = input_df[input_df.x23.notnull()]\n",
    "        input_df = input_df[input_df.x33.notnull()]\n",
    "        input_df = input_df[input_df.x54.notnull()]\n",
    "        data_good = input_df[input_df[\"data_quality\"] == 1]\n",
    "        \n",
    "        ##print(data_good)\n",
    "        return(data_good)\n",
    "    except Exception as error_msg:\n",
    "        logger.info(f\"Exception occured while reading the dataset: {blob_name}\"\n",
    "                    f\"Error Info is  {error_msg}\")\n",
    "\n",
    "\n",
    "def get_quantity_breadcrumbs():\n",
    "    logger.info(\n",
    "        f\"Preparing action handler json for number of cities in historical screen\")\n",
    "    dframe = fiile_read(\"cost-of-living_v2_I0869\")\n",
    "    total_cities = dframe.city.nunique()\n",
    "    actions = {\n",
    "        \"list\": [\n",
    "            {\n",
    "                \"text\": \"number of cities: \",\n",
    "            },\n",
    "            {\n",
    "                \"text\": str(total_cities),\n",
    "                \"color\": \"contrast\",\n",
    "                \"style\": {\n",
    "                    \"fontWeight\": 600,\n",
    "                }\n",
    "            }\n",
    "        ]\n",
    "    }\n",
    "    logger.info(\n",
    "        f\"Successfully prepared action handler json for order quantity in historical screen\")\n",
    "    return actions\n",
    "\n",
    "\n",
    "# action_type = \"get_screen_breadcrumbs\"\n",
    "\n",
    "\n",
    "if action_type == \"get_screen_breadcrumbs\":\n",
    "    res = get_quantity_breadcrumbs()\n",
    "\n",
    "dynamic_outputs = json.dumps(res)\n",
    "\n",
    "\"\"\""
   ]
  },
  {
   "cell_type": "code",
   "execution_count": 6,
   "metadata": {},
   "outputs": [],
   "source": [
    "#BEGIN CUSTOM CODE BELOW...\n",
    "\n",
    "#put your output in this response param for connecting to downstream widgets\n",
    "top_10_costly_countries = \"\"\"\n",
    "#productReturn_quantity \n",
    "# Below codestring is used to display the nuumber of product unit returned in a year.\n",
    "\n",
    "import pandas as pd\n",
    "import json\n",
    "from io import StringIO\n",
    "\n",
    "\n",
    "def getLogger():\n",
    "    import logging\n",
    "    logging.basicConfig(filename=\"UIACLogger.log\",\n",
    "                        format='%(asctime)s %(message)s',\n",
    "                        filemode='a')\n",
    "    logger = logging.getLogger()\n",
    "    logger.setLevel(logging.DEBUG)\n",
    "    return logger\n",
    "\n",
    "\n",
    "logger = getLogger()\n",
    "\n",
    "\n",
    "def fiile_read(blob_name):\n",
    "    #reading the file from azure blob storage container\n",
    "    logger.info(f\"Read dataset file: {blob_name}\")\n",
    "    try:\n",
    "        from azure.storage.blob import BlockBlobService\n",
    "        sas_token = '?sv=2021-04-10&st=2022-12-22T08%3A12%3A47Z&se=2023-12-30T08%3A12%3A00Z&sr=c&sp=racwl&sig=fMeYkXsCvwK%2F0qVrCmj2j3NiMricQjOPWOkAEXekIPA%3D'\n",
    "        account_name = 'willbedeletedsoon'\n",
    "        container_name = 'codx-pede-s02'\n",
    "        #blob_name = 'cost-of-living_v2_I0869'\n",
    "        def get_data_from_blob(sas_token, account_name, container_name, blob_name):\n",
    "            block_blob_service = BlockBlobService(account_name=account_name, sas_token= sas_token)\n",
    "            from_blob = block_blob_service.get_blob_to_text(container_name = container_name, blob_name=blob_name)\n",
    "            return pd.read_csv(StringIO(from_blob.content))\n",
    "        input_df=get_data_from_blob(sas_token, account_name, container_name, blob_name)\n",
    "        #filtering out empty columns\n",
    "        input_df = input_df[input_df.x2.notnull()]\n",
    "        input_df = input_df[input_df.x23.notnull()]\n",
    "        input_df = input_df[input_df.x33.notnull()]\n",
    "        input_df = input_df[input_df.x54.notnull()]\n",
    "        data_good = input_df[input_df[\"data_quality\"] == 1]\n",
    "        \n",
    "        ##print(input_df)\n",
    "        return(data_good)\n",
    "    except Exception as error_msg:\n",
    "        logger.info(f\"Exception occured while reading the dataset: {blob_name}\"\n",
    "                    f\"Error Info is  {error_msg}\")\n",
    "\n",
    "\n",
    "# def get_productReturnQuantity():\n",
    "#     logger.info(\"Calculating Quantity of product returned\")\n",
    "#     dframe = fiile_read(\"cost-of-living_v2_I0869\") #*test#\n",
    "#     productReturnQuantity = dframe['ReturnQuantity'].sum()\n",
    "#     metric = {}\n",
    "#     metric['title'] = \"Quantity of Products Returned\"\n",
    "#     metric['value'] = str(int(productReturnQuantity)) + ' units'\n",
    "#     logger.info(\"Successfully calculated Quantity of product returned\")\n",
    "#     return metric\n",
    "\n",
    "def get_count_of_countries_top_10_percentile_cost_wise():\n",
    "    logger.info(\"Calculating Quantity of product returned\")\n",
    "    dframe = fiile_read(\"cost-of-living_v2_I0869\") #*test#\n",
    "    dframe['Percentile_Rank'] = dframe.x48.rank(pct = True)\n",
    "    filtered_df= dframe[dframe['Percentile_Rank']> 0.9]\n",
    "    cnt =filtered_df.country.nunique()\n",
    "    metric = {}\n",
    "    metric['title'] = \"top_10_percentile_countries_cost_wise\"\n",
    "    metric['value'] = str(int(cnt)) + ' countries'\n",
    "    logger.info(\"Successfully calculated Quantity of product returned\")\n",
    "    return metric\n",
    "\n",
    "kpi_json = get_productReturnQuantity()\n",
    "dynamic_outputs = json.dumps(kpi_json)\n",
    "\"\"\"\n",
    "#END CUSTOM CODE"
   ]
  },
  {
   "cell_type": "code",
   "execution_count": 7,
   "metadata": {},
   "outputs": [],
   "source": [
    "#BEGIN CUSTOM CODE BELOW...\n",
    "\n",
    "#put your output in this response param for connecting to downstream widgets\n",
    "productReturn_UniqueProduct = \"\"\"\n",
    "# Below codestring is used to display the nuumber of uniue product types returned in a year.\n",
    "\n",
    "import pandas as pd\n",
    "import json\n",
    "from io import StringIO\n",
    "\n",
    "\n",
    "def getLogger():\n",
    "    import logging\n",
    "    logging.basicConfig(filename=\"UIACLogger.log\",\n",
    "                        format='%(asctime)s %(message)s',\n",
    "                        filemode='a')\n",
    "    logger = logging.getLogger()\n",
    "    logger.setLevel(logging.DEBUG)\n",
    "    return logger\n",
    "\n",
    "\n",
    "logger = getLogger()\n",
    "\n",
    "\n",
    "def fiile_read(blob_name):\n",
    "    #reading the file from azure blob storage container\n",
    "    logger.info(f\"Read dataset file: {blob_name}\")\n",
    "    try:\n",
    "        from azure.storage.blob import BlockBlobService\n",
    "        sas_token = '?sv=2021-04-10&st=2022-12-22T08%3A12%3A47Z&se=2023-12-30T08%3A12%3A00Z&sr=c&sp=racwl&sig=fMeYkXsCvwK%2F0qVrCmj2j3NiMricQjOPWOkAEXekIPA%3D'\n",
    "        account_name = 'willbedeletedsoon'\n",
    "        container_name = 'codx-pede-s02'\n",
    "        #blob_name = 'cost-of-living_v2_I0869'\n",
    "        def get_data_from_blob(sas_token, account_name, container_name, blob_name):\n",
    "            block_blob_service = BlockBlobService(account_name=account_name, sas_token= sas_token)\n",
    "            from_blob = block_blob_service.get_blob_to_text(container_name = container_name, blob_name=blob_name)\n",
    "            return pd.read_csv(StringIO(from_blob.content))\n",
    "        input_df=get_data_from_blob(sas_token, account_name, container_name, blob_name)\n",
    "        #filtering out empty columns\n",
    "        input_df = input_df[input_df.x2.notnull()]\n",
    "        input_df = input_df[input_df.x23.notnull()]\n",
    "        input_df = input_df[input_df.x33.notnull()]\n",
    "        input_df = input_df[input_df.x54.notnull()]\n",
    "        data_good = input_df[input_df[\"data_quality\"] == 1]\n",
    "        \n",
    "        ##print(input_df)\n",
    "        return(data_good)\n",
    "    except Exception as error_msg:\n",
    "        logger.info(f\"Exception occured while reading the dataset: {blob_name}\"\n",
    "                    f\"Error Info is  {error_msg}\")\n",
    "\n",
    "\n",
    "# def get_uniqueProductReturned():\n",
    "#     logger.info(\"Calculating number of unique products returned\")\n",
    "#     dframe = fiile_read(\"cost-of-living_v2_I0869\")\n",
    "#     uniqueProductQuantity = len(dframe['ProductName'].unique())\n",
    "#     metric = {}\n",
    "#     metric['title'] = \"No of Unique Products Returned\"\n",
    "#     metric['value'] = str(int(uniqueProductQuantity)) + ' unique Products'\n",
    "#     logger.info(\"Successfully calculated number of unique products returned\")\n",
    "#     return metric\n",
    "\n",
    "def get_count_of_countries_top_10_percentile_income_wise():\n",
    "    #logger.info(\"Calculating Quantity of product returned\")\n",
    "    logger.info(\"count_of_countries_top_10_percentile_income_wise\")\n",
    "    dframe = fiile_read(\"cost-of-living_v2_I0869\") #*test#\n",
    "    dframe['Percentile_Rank'] = dframe.x54.rank(pct = True)\n",
    "    filtered_df= dframe[dframe['Percentile_Rank']> 0.9]\n",
    "    cnt =filtered_df.country.nunique()\n",
    "    metric = {}\n",
    "    metric['title'] = \"count_of_countries_top_10_percentile_income_wise\"\n",
    "    metric['value'] = str(int(cnt)) + ' countries'\n",
    "    logger.info(\"Successfully calculated Quantity of product returned\")\n",
    "    return metric\n",
    "\n",
    "\n",
    "kpi_json = get_uniqueProductReturned()\n",
    "dynamic_outputs = json.dumps(kpi_json)\n",
    "\"\"\"\n",
    "#END CUSTOM CODE"
   ]
  },
  {
   "cell_type": "code",
   "execution_count": 8,
   "metadata": {},
   "outputs": [],
   "source": [
    "#BEGIN CUSTOM CODE BELOW...\n",
    "\n",
    "#put your output in this response param for connecting to downstream widgets\n",
    "productReturns_costOfProductReturned = \"\"\"\n",
    "# Below codestring is used to display the total cost of product that was returned in a year.\n",
    "\n",
    "import pandas as pd\n",
    "import json\n",
    "from io import StringIO\n",
    "\n",
    "\n",
    "def getLogger():\n",
    "    import logging\n",
    "    logging.basicConfig(filename=\"UIACLogger.log\",\n",
    "                        format='%(asctime)s %(message)s',\n",
    "                        filemode='a')\n",
    "    logger = logging.getLogger()\n",
    "    logger.setLevel(logging.DEBUG)\n",
    "    return logger\n",
    "\n",
    "\n",
    "logger = getLogger()\n",
    "\n",
    "\n",
    "def read_dataset(filename):\n",
    "    # Read dataset from the github.\n",
    "    logger.info(f\"Read dataset file: {filename}\")\n",
    "    try:\n",
    "        dataset_url = f\"https://raw.githubusercontent.com/saipraneeth4/codx_dataset/main/dataset/{filename}\"\n",
    "        dframe = pd.read_csv(dataset_url)\n",
    "        return dframe\n",
    "    except Exception as error_msg:\n",
    "        logger.info(f\"Exception occured while reading the dataset: {dataset_url}\"\n",
    "                    f\"Error Info is  {error_msg}\")\n",
    "\n",
    "\n",
    "# def get_costOfProductReturned():\n",
    "#     logger.info(\"Calculating Totalcost of products returned\")\n",
    "#     dframe = fiile_read(\"cost-of-living_v2_I0869\")\n",
    "#     costOfProdRetuned = dframe['ProductPrice'].sum()\n",
    "#     metric = {}\n",
    "#     metric['title'] = \"No of Unique Products Returned\"\n",
    "#     metric['value'] = str(int(costOfProdRetuned)) + ' $'\n",
    "#     logger.info(\"Successfully calculated Totalcost of products returned\")\n",
    "#     return metric\n",
    "\n",
    "def top_ten_percentile_in_savings():\n",
    "    logger.info(\"net_cost_of_living_baisc_ammenities\")\n",
    "    dframe = fiile_read(\"cost-of-living_v2_I0869\")\n",
    "    dframe1=dframe.groupby(['country'])['basic_expenditure', 'x54','country'].mean()\n",
    "    dframe1['savings'] = dframe1['x54'] - dframe1['basic_expenditure']\n",
    "    dframe1['percentage_savings'] = dframe1['savings'] * 100 / dframe1['x54']\n",
    "    dframe1['Percentile_Rank_savings'] = dframe1.savings.rank(pct = True)\n",
    "    filtered_df= dframe1[dframe1['Percentile_Rank_savings']> 0.9]\n",
    "    ##print(filtered_df.head(10))\n",
    "    cnt =len(filtered_df)\n",
    "    ##print(dframe1.sort_values(by=['savings'], ascending=False))\n",
    "    #print(cnt)\n",
    "    metric = {}\n",
    "    metric['title'] = \"No of countries in top_ten_percentile_in_savings\"\n",
    "    metric['value'] = cnt\n",
    "    logger.info(\"Successfully calculated the No of countries in top_ten_percentile_in_savings\")\n",
    "    return metric\n",
    "    \n",
    "\n",
    "\n",
    "kpi_json = top_ten_percentile_in_savings()\n",
    "dynamic_outputs = json.dumps(kpi_json)\n",
    "\"\"\"\n",
    "#END CUSTOM CODE"
   ]
  },
  {
   "cell_type": "code",
   "execution_count": 10,
   "metadata": {},
   "outputs": [],
   "source": [
    "#BEGIN CUSTOM CODE BELOW...\n",
    "\n",
    "#put your output in this response param for connecting to downstream widgets\n",
    "oderDetailProduct = \"\"\"\n",
    "# Below codestring is used to perform detailed analysis of Product stock available over time. \n",
    "\n",
    "import plotly.express as px\n",
    "import pandas as pd\n",
    "import json\n",
    "from io import StringIO\n",
    "import plotly.io as io\n",
    "\n",
    "\n",
    "def getLogger():\n",
    "    import logging\n",
    "    logging.basicConfig(filename=\"UIACLogger.log\",\n",
    "                        format='%(asctime)s %(message)s',\n",
    "                        filemode='a')\n",
    "    logger = logging.getLogger()\n",
    "    logger.setLevel(logging.DEBUG)\n",
    "    return logger\n",
    "\n",
    "\n",
    "logger = getLogger()\n",
    "\n",
    "\n",
    "def fiile_read(blob_name):\n",
    "    #reading the file from azure blob storage container\n",
    "    logger.info(f\"Read dataset file: {blob_name}\")\n",
    "    try:\n",
    "        from azure.storage.blob import BlockBlobService\n",
    "        sas_token = '?sv=2021-04-10&st=2022-12-22T08%3A12%3A47Z&se=2023-12-30T08%3A12%3A00Z&sr=c&sp=racwl&sig=fMeYkXsCvwK%2F0qVrCmj2j3NiMricQjOPWOkAEXekIPA%3D'\n",
    "        account_name = 'willbedeletedsoon'\n",
    "        container_name = 'codx-pede-s02'\n",
    "        #blob_name = 'cost-of-living_v2_I0869'\n",
    "        def get_data_from_blob(sas_token, account_name, container_name, blob_name):\n",
    "            block_blob_service = BlockBlobService(account_name=account_name, sas_token= sas_token)\n",
    "            from_blob = block_blob_service.get_blob_to_text(container_name = container_name, blob_name=blob_name)\n",
    "            return pd.read_csv(StringIO(from_blob.content))\n",
    "        input_df=get_data_from_blob(sas_token, account_name, container_name, blob_name)\n",
    "        #filtering out empty columns\n",
    "        input_df = input_df[input_df.x2.notnull()]\n",
    "        input_df = input_df[input_df.x23.notnull()]\n",
    "        input_df = input_df[input_df.x33.notnull()]\n",
    "        input_df = input_df[input_df.x54.notnull()]\n",
    "        data_good = input_df[input_df[\"data_quality\"] == 1]\n",
    "        \n",
    "        ##print(data_good)\n",
    "        return(input_df)\n",
    "    except Exception as error_msg:\n",
    "        logger.info(f\"Exception occured while reading the dataset: {blob_name}\"\n",
    "                    f\"Error Info is  {error_msg}\")\n",
    "\n",
    "\n",
    "def getGraph(dframe, filters):\n",
    "    logger.info(\n",
    "        \"Preparing bar graph json to understand net income across all countries\")\n",
    "    for item in filters:\n",
    "        if 'All' in filters[item]:\n",
    "            continue\n",
    "        elif isinstance(filters[item], list):\n",
    "            dframe = dframe[dframe[item].isin(filters[item])]\n",
    "        else:\n",
    "            dframe = dframe[dframe[item] == filters[item]]\n",
    "    fig = px.bar(dframe, x='city', y='x54', color='x48')\n",
    "    # fig.show()\n",
    "    logger.info(\n",
    "        \"Successfully prepared bar graph json to understand net income across all countries\")\n",
    "    return io.to_json(fig)\n",
    "\n",
    "\n",
    "selected_filters = {\"Country\": 'India'}\n",
    "dframe = fiile_read(\"cost-of-living_v2_I0869\")\n",
    "dynamic_outputs = getGraph(dframe, selected_filters)\n",
    "\"\"\"\n",
    "#END CUSTOM CODE"
   ]
  },
  {
   "cell_type": "code",
   "execution_count": 11,
   "metadata": {},
   "outputs": [],
   "source": [
    "#BEGIN CUSTOM CODE BELOW...\n",
    "\n",
    "#put your output in this response param for connecting to downstream widgets\n",
    "productReturns_gridTable = \"\"\"\n",
    "# Below codestring is used to view the product returns details.\n",
    "\n",
    "import pandas as pd\n",
    "import json\n",
    "from io import StringIO\n",
    "\n",
    "\n",
    "def getLogger():\n",
    "    import logging\n",
    "    logging.basicConfig(filename=\"UIACLogger.log\",\n",
    "                        format='%(asctime)s %(message)s',\n",
    "                        filemode='a')\n",
    "    logger = logging.getLogger()\n",
    "    logger.setLevel(logging.DEBUG)\n",
    "    return logger\n",
    "\n",
    "\n",
    "logger = getLogger()\n",
    "\n",
    "\n",
    "def fiile_read(blob_name):\n",
    "    #reading the file from azure blob storage container\n",
    "    logger.info(f\"Read dataset file: {blob_name}\")\n",
    "    try:\n",
    "        from azure.storage.blob import BlockBlobService\n",
    "        sas_token = '?sv=2021-04-10&st=2022-12-22T08%3A12%3A47Z&se=2023-12-30T08%3A12%3A00Z&sr=c&sp=racwl&sig=fMeYkXsCvwK%2F0qVrCmj2j3NiMricQjOPWOkAEXekIPA%3D'\n",
    "        account_name = 'willbedeletedsoon'\n",
    "        container_name = 'codx-pede-s02'\n",
    "        #blob_name = 'cost-of-living_v2_I0869'\n",
    "        def get_data_from_blob(sas_token, account_name, container_name, blob_name):\n",
    "            block_blob_service = BlockBlobService(account_name=account_name, sas_token= sas_token)\n",
    "            from_blob = block_blob_service.get_blob_to_text(container_name = container_name, blob_name=blob_name)\n",
    "            return pd.read_csv(StringIO(from_blob.content))\n",
    "        input_df=get_data_from_blob(sas_token, account_name, container_name, blob_name)\n",
    "        #filtering out empty columns\n",
    "        input_df = input_df[input_df.x2.notnull()]\n",
    "        input_df = input_df[input_df.x23.notnull()]\n",
    "        input_df = input_df[input_df.x33.notnull()]\n",
    "        input_df = input_df[input_df.x54.notnull()]\n",
    "        data_good = input_df[input_df[\"data_quality\"] == 1]\n",
    "        \n",
    "        ##print(data_good)\n",
    "        return(input_df)\n",
    "    except Exception as error_msg:\n",
    "        logger.info(f\"Exception occured while reading the dataset: {blob_name}\"\n",
    "                    f\"Error Info is  {error_msg}\")\n",
    "\n",
    "\n",
    "def generate_dynamic_table(dframe, name='Sales', grid_options={\"tableSize\": \"small\", \"tableMaxHeight\": \"80vh\", \"quickSearch\":True}, group_headers=[], grid=\"auto\"):\n",
    "    logger.info(\"Generate dynamic Grid table json from dframe\")\n",
    "    table_dict = {}\n",
    "    table_props = {}\n",
    "    table_dict.update({\"grid\": grid, \"type\": \"tabularForm\",\n",
    "                      \"noGutterBottom\": True, 'name': name})\n",
    "    values_dict = dframe.dropna(axis=1).to_dict(\"records\")\n",
    "    table_dict.update({\"value\": values_dict})\n",
    "    col_def_list = []\n",
    "    for col in list(dframe.columns):\n",
    "        col_def_dict = {}\n",
    "        col_def_dict.update({\"headerName\": col, \"field\": col})\n",
    "        col_def_list.append(col_def_dict)\n",
    "    table_props[\"groupHeaders\"] = group_headers\n",
    "    table_props[\"coldef\"] = col_def_list\n",
    "    table_props[\"gridOptions\"] = grid_options\n",
    "    table_dict.update({\"tableprops\": table_props})\n",
    "    logger.info(\"Successfully generated dynamic Grid table json from dframe\")\n",
    "    return table_dict\n",
    "\n",
    "\n",
    "def build_grid_table_json():\n",
    "    logger.info(\"Preparing grid table json for Product Returns Screen\")\n",
    "    form_config = {}\n",
    "    dframe = fiile_read(\"cost-of-living_v2_I0869\")\n",
    "    form_config['fields'] = [generate_dynamic_table(dframe)]\n",
    "    grid_table_json = {}\n",
    "    grid_table_json['form_config'] = form_config\n",
    "    logger.info(\"Successfully prepared grid table json for Product Returns Screen\")\n",
    "    return grid_table_json\n",
    "\n",
    "\n",
    "grid_table_json = build_grid_table_json()\n",
    "dynamic_outputs = json.dumps(grid_table_json)\n",
    "\"\"\"\n",
    "#END CUSTOM CODE"
   ]
  },
  {
   "cell_type": "code",
   "execution_count": 12,
   "metadata": {},
   "outputs": [],
   "source": [
    "#BEGIN CUSTOM CODE BELOW...\n",
    "\n",
    "#put your output in this response param for connecting to downstream widgets\n",
    "orderDetailFilter = \"\"\"\n",
    "## Below codestring is used to create filters to show different regions data in  Order Detail Analysis screen.\n",
    "\n",
    "import pandas as pd\n",
    "import json\n",
    "from io import StringIO\n",
    "from itertools import chain\n",
    "\n",
    "\n",
    "def getLogger():\n",
    "    import logging\n",
    "    logging.basicConfig(filename=\"UIACLogger.log\",\n",
    "                        format='%(asctime)s %(message)s',\n",
    "                        filemode='a')\n",
    "    logger = logging.getLogger()\n",
    "    logger.setLevel(logging.DEBUG)\n",
    "    return logger\n",
    "\n",
    "\n",
    "logger = getLogger()\n",
    "\n",
    "def fiile_read(blob_name):\n",
    "    #reading the file from azure blob storage container\n",
    "    logger.info(f\"Read dataset file: {blob_name}\")\n",
    "    try:\n",
    "        from azure.storage.blob import BlockBlobService\n",
    "        sas_token = '?sv=2021-04-10&st=2022-12-22T08%3A12%3A47Z&se=2023-12-30T08%3A12%3A00Z&sr=c&sp=racwl&sig=fMeYkXsCvwK%2F0qVrCmj2j3NiMricQjOPWOkAEXekIPA%3D'\n",
    "        account_name = 'willbedeletedsoon'\n",
    "        container_name = 'codx-pede-s02'\n",
    "        #blob_name = 'cost-of-living_v2_I0869'\n",
    "        def get_data_from_blob(sas_token, account_name, container_name, blob_name):\n",
    "            block_blob_service = BlockBlobService(account_name=account_name, sas_token= sas_token)\n",
    "            from_blob = block_blob_service.get_blob_to_text(container_name = container_name, blob_name=blob_name)\n",
    "            return pd.read_csv(StringIO(from_blob.content))\n",
    "        input_df=get_data_from_blob(sas_token, account_name, container_name, blob_name)\n",
    "        #filtering out empty columns\n",
    "        input_df = input_df[input_df.x2.notnull()]\n",
    "        input_df = input_df[input_df.x23.notnull()]\n",
    "        input_df = input_df[input_df.x33.notnull()]\n",
    "        input_df = input_df[input_df.x54.notnull()]\n",
    "        data_good = input_df[input_df[\"data_quality\"] == 1]\n",
    "        \n",
    "        ##print(data_good)\n",
    "        return(input_df)\n",
    "    except Exception as error_msg:\n",
    "        logger.info(f\"Exception occured while reading the dataset: {blob_name}\"\n",
    "                    f\"Error Info is  {error_msg}\")\n",
    "\n",
    "\n",
    "def get_response_filters(current_filter_params, df, default_values_selected, all_filters, multi_select_filters, extra_filters={}):\n",
    "    logger.info(\"Preparing filter dictionary\")\n",
    "    # Usage\n",
    "    # -----\n",
    "    # >>> filter_df = pd.DataFrame(columns=[....])    # Optional operation\n",
    "    # >>> filter_df = final_ADS.groupby(......)       # Optional operation\n",
    "    # >>> default_values_selected = {}    # The default value to be selected for a filter, provide filter_name, filter_values\n",
    "    # >>> all_option_filters = []         # Filters with an All option\n",
    "    # >>> multi_select_filters = []       # Filters with an multi_select option\n",
    "    # >>> more_filters = {}               # Extra filters, provide filter_names, filter_options\n",
    "    # >>> final_dict_out = get_response_filters(current_filter_params, filter_df, default_values_selected, all_option_filters, multi_select_filters, more_filters)\n",
    "    # >>> dynamic_outputs = json.dumps(final_dict_out)\n",
    "    # Returns\n",
    "    # -------\n",
    "    # A dict object containing the filters JSON structure\n",
    "\n",
    "    filters = list(df.columns)\n",
    "    default_values_possible = {}\n",
    "    for item in filters:\n",
    "        default_possible = list(df[item].unique())\n",
    "        if item in all_filters:\n",
    "            default_possible = list(chain(['All'], default_possible))\n",
    "        default_values_possible[item] = default_possible\n",
    "    if extra_filters:\n",
    "        filters.extend(list(extra_filters.keys()))\n",
    "        default_values_possible.update(extra_filters)\n",
    "    if current_filter_params:\n",
    "        selected_filters = current_filter_params[\"selected\"]\n",
    "        # current_filter = current_filter_params[\"current_filter\"]\n",
    "        # current_index = filters.index(current_filter)\n",
    "        select_df = df.copy()\n",
    "    final_dict = {}\n",
    "    iter_value = 0\n",
    "    data_values = []\n",
    "    default_values = {}\n",
    "    for item in filters:\n",
    "        filter_dict = {}\n",
    "        filter_dict[\"widget_filter_index\"] = int(iter_value)\n",
    "        filter_dict[\"widget_filter_function\"] = False\n",
    "        filter_dict[\"widget_filter_function_parameter\"] = False\n",
    "        filter_dict[\"widget_filter_hierarchy_key\"] = False\n",
    "        filter_dict[\"widget_filter_isall\"] = True if item in all_filters else False\n",
    "        filter_dict[\"widget_filter_multiselect\"] = True if item in multi_select_filters else False\n",
    "        filter_dict[\"widget_tag_key\"] = str(item)\n",
    "        filter_dict[\"widget_tag_label\"] = str(item)\n",
    "        filter_dict[\"widget_tag_input_type\"] = \"select\",\n",
    "        filter_dict[\"widget_filter_dynamic\"] = True\n",
    "        if current_filter_params:\n",
    "            if item in df.columns:\n",
    "                possible_values = list(select_df[item].unique())\n",
    "                item_default_value = selected_filters[item]\n",
    "                if item in all_filters:\n",
    "                    possible_values = list(chain(['All'], possible_values))\n",
    "                if item in multi_select_filters:\n",
    "                    for value in selected_filters[item]:\n",
    "                        if value not in possible_values:\n",
    "                            if possible_values[0] == \"All\":\n",
    "                                item_default_value = possible_values\n",
    "                            else:\n",
    "                                item_default_value = [possible_values[0]]\n",
    "                else:\n",
    "                    if selected_filters[item] not in possible_values:\n",
    "                        item_default_value = possible_values[0]\n",
    "                filter_dict[\"widget_tag_value\"] = possible_values\n",
    "                if item in multi_select_filters:\n",
    "                    if 'All' not in item_default_value and selected_filters[item]:\n",
    "                        select_df = select_df[select_df[item].isin(\n",
    "                            item_default_value)]\n",
    "                else:\n",
    "                    if selected_filters[item] != 'All':\n",
    "                        select_df = select_df[select_df[item]\n",
    "                                              == item_default_value]\n",
    "            else:\n",
    "                filter_dict[\"widget_tag_value\"] = extra_filters[item]\n",
    "        else:\n",
    "            filter_dict[\"widget_tag_value\"] = default_values_possible[item]\n",
    "            item_default_value = default_values_selected[item]\n",
    "        data_values.append(filter_dict)\n",
    "        default_values[item] = item_default_value\n",
    "        iter_value = iter_value + 1\n",
    "    final_dict[\"dataValues\"] = data_values\n",
    "    final_dict[\"defaultValues\"] = default_values\n",
    "    logger.info(\"Successfully prepared filter dictionary\")\n",
    "    return final_dict\n",
    "\n",
    "\n",
    "def prepare_filter_json():\n",
    "    logger.info(f\"Preparing json for Filters in Order Detail Screen\")\n",
    "    # Preapre Filter json for Region in the Order Detail View Screen.\n",
    "    dframe = fiile_read(\"cost-of-living_v2_I0869\")\n",
    "    dframe = dframe.groupby(['country']).sum().reset_index()\n",
    "    filter_dframe = dframe[['country']]\n",
    "    default_values_selected = {\"country\": 'India'}\n",
    "    all_filters = []\n",
    "    multi_select_filters = []\n",
    "    current_filter_params = {\"selected\": default_values_selected}\n",
    "    final_dict_out = get_response_filters(\n",
    "        current_filter_params, filter_dframe, default_values_selected, all_filters, multi_select_filters)\n",
    "    logger.info(f\"Successful prepared json for Filters in Order Detail Screen\")\n",
    "    return json.dumps(final_dict_out)\n",
    "\n",
    "\n",
    "dynamic_outputs = prepare_filter_json()\n",
    "\n",
    "\"\"\"\n",
    "#END CUSTOM CODE"
   ]
  },
  {
   "cell_type": "code",
   "execution_count": 13,
   "metadata": {},
   "outputs": [],
   "source": [
    "# dynamic_metrics = {\n",
    "#     'Temp of countries more than 35': temp_of_more_than_35,\n",
    "#     'Total Unique Product Quantity Returned': productReturn_UniqueProduct,\n",
    "#     'Total Cost of Product Returned': productReturns_costOfProductReturned,\n",
    "# }\n",
    "\n",
    "\n",
    "\n",
    "\n",
    "# dynamic_filter = {\n",
    "#     'HistoricScreenFilters': HistoricScreenFilters,\n",
    "#     'orderDetailFilter': orderDetailFilter,\n",
    "# }\n",
    "# dynamic_actions = {\n",
    "#     \"breadcrumb\": {\n",
    "#         \"default\": None,\n",
    "#         \"action_generator\": historicScreenActionGen,\n",
    "#         \"action_handler\": historicScreenActionHandler\n",
    "#     },\n",
    "# }\n",
    "\n",
    "# results_json.append({\n",
    "# #     'type': 'Dynamic Plot',\n",
    "# #     'name': 'Dynamic Plot',\n",
    "# #     'component': 'Dynamic Plot',\n",
    "# #     'dynamic_visual_results': dynamic_result,\n",
    "# #     'dynamic_code_filters': dynamic_filter,\n",
    "# #     'dynamic_metrics_results': dynamic_metrics,\n",
    "# #     'actions': dynamic_actions\n",
    "\n",
    "# # })\n",
    "dynamic_result = {\n",
    "    'Product Details Historic View': historicScreenGridTable,\n",
    " }\n",
    "results_json.append({\n",
    "    'type': 'Dynamic Plot',\n",
    "    'name': 'Dynamic Plot',\n",
    "    'component': 'Dynamic Plot',\n",
    "    'dynamic_visual_results': dynamic_result,\n",
    "    # 'dynamic_code_filters': dynamic_filter,\n",
    "    # 'dynamic_metrics_results': dynamic_metrics,\n",
    "    # 'actions': dynamic_actions\n",
    "\n",
    "})\n",
    "\n",
    "\n"
   ]
  },
  {
   "cell_type": "code",
   "execution_count": 17,
   "metadata": {},
   "outputs": [
    {
     "name": "stderr",
     "output_type": "stream",
     "text": [
      "Fatal Python error: init_import_site: Failed to import the site module\n",
      "Python runtime state: initialized\n",
      "Traceback (most recent call last):\n",
      "  File \"C:\\Users\\SampreetGupta\\AppData\\Local\\Programs\\Python\\Python310\\lib\\site.py\", line 617, in <module>\n",
      "    main()\n",
      "  File \"C:\\Users\\SampreetGupta\\AppData\\Local\\Programs\\Python\\Python310\\lib\\site.py\", line 604, in main\n",
      "    known_paths = addsitepackages(known_paths)\n",
      "  File \"C:\\Users\\SampreetGupta\\AppData\\Local\\Programs\\Python\\Python310\\lib\\site.py\", line 387, in addsitepackages\n",
      "    addsitedir(sitedir, known_paths)\n",
      "  File \"C:\\Users\\SampreetGupta\\AppData\\Local\\Programs\\Python\\Python310\\lib\\site.py\", line 226, in addsitedir\n",
      "    addpackage(sitedir, name, known_paths)\n",
      "  File \"C:\\Users\\SampreetGupta\\AppData\\Local\\Programs\\Python\\Python310\\lib\\site.py\", line 175, in addpackage\n",
      "    f = io.TextIOWrapper(io.open_code(fullname), encoding=\"locale\")\n",
      "  File \"C:\\Users\\SampreetGupta\\AppData\\Local\\Programs\\Python\\Python310\\lib\\encodings\\__init__.py\", line 99, in search_function\n",
      "    mod = __import__('encodings.' + modname, fromlist=_import_tail,\n",
      "  File \"C:\\Users\\SampreetGupta\\AppData\\Local\\Programs\\Python\\Python310\\lib\\encodings\\cp1252.py\", line 10, in <module>\n",
      "    file = open(input, encoding=\"utf8\")\n",
      "TypeError: expected str, bytes or os.PathLike object, not builtin_function_or_method\n",
      "\n",
      "Extension modules: numpy.core._multiarray_umath, numpy.core._multiarray_tests, numpy.linalg._umath_linalg, numpy.fft._pocketfft_internal, numpy.random._common, numpy.random.bit_generator, numpy.random._bounded_integers, numpy.random._mt19937, numpy.random.mtrand, numpy.random._philox, numpy.random._pcg64, numpy.random._sfc64, numpy.random._generator, pandas._libs.tslibs.dtypes, pandas._libs.tslibs.base, pandas._libs.tslibs.np_datetime, pandas._libs.tslibs.nattype, pandas._libs.tslibs.timezones, pandas._libs.tslibs.ccalendar, pandas._libs.tslibs.tzconversion, pandas._libs.tslibs.strptime, pandas._libs.tslibs.fields, pandas._libs.tslibs.timedeltas, pandas._libs.tslibs.timestamps, pandas._libs.properties, pandas._libs.tslibs.offsets, pandas._libs.tslibs.parsing, pandas._libs.tslibs.conversion, pandas._libs.tslibs.period, pandas._libs.tslibs.vectorized, pandas._libs.ops_dispatch, pandas._libs.missing, pandas._libs.hashtable, pandas._libs.algos, pandas._libs.interval, pandas._libs.tslib, pandas._libs.lib, pandas._libs.hashing, pyarrow.lib, pyarrow._hdfsio, pandas._libs.ops, pandas._libs.arrays, pandas._libs.index, pandas._libs.join, pandas._libs.sparse, pyarrow._compute, pandas._libs.reduction, pandas._libs.indexing, pandas._libs.internals, pandas._libs.writers, pandas._libs.window.aggregations, pandas._libs.window.indexers, pandas._libs.reshape, pandas._libs.groupby, pandas._libs.testing, pandas._libs.parsers, pandas._libs.json (total: 57)\n"
     ]
    }
   ],
   "source": [
    "currentNotebook = 'Downloads\\depe1.ipynb'\n",
    "\n",
    "!jupyter nbconvert --to script {currentNotebook} "
   ]
  },
  {
   "cell_type": "code",
   "execution_count": 18,
   "metadata": {},
   "outputs": [
    {
     "ename": "FileNotFoundError",
     "evalue": "[Errno 2] No such file or directory: 'Downloads\\\\depe1.py'",
     "output_type": "error",
     "traceback": [
      "\u001b[1;31m---------------------------------------------------------------------------\u001b[0m",
      "\u001b[1;31mFileNotFoundError\u001b[0m                         Traceback (most recent call last)",
      "\u001b[1;32mC:\\Users\\SAMPRE~1\\AppData\\Local\\Temp/ipykernel_19020/2001712688.py\u001b[0m in \u001b[0;36m<module>\u001b[1;34m\u001b[0m\n\u001b[1;32m----> 1\u001b[1;33m \u001b[0mutils\u001b[0m\u001b[1;33m.\u001b[0m\u001b[0msubmit_config_params\u001b[0m\u001b[1;33m(\u001b[0m\u001b[0murl\u001b[0m\u001b[1;33m=\u001b[0m\u001b[1;34m'https://codex-api-stage.azurewebsites.net/codex-api/projects/upload-config-params/XbpsYR9JylEWw7cfZo3YLw'\u001b[0m\u001b[1;33m,\u001b[0m \u001b[0mnb_name\u001b[0m\u001b[1;33m=\u001b[0m\u001b[0mcurrentNotebook\u001b[0m\u001b[1;33m,\u001b[0m \u001b[0mresults\u001b[0m\u001b[1;33m=\u001b[0m\u001b[0mresults_json\u001b[0m\u001b[1;33m,\u001b[0m \u001b[0mcodex_tags\u001b[0m\u001b[1;33m=\u001b[0m\u001b[0mcodex_tags\u001b[0m\u001b[1;33m,\u001b[0m \u001b[0margs\u001b[0m\u001b[1;33m=\u001b[0m\u001b[1;33m{\u001b[0m\u001b[1;33m}\u001b[0m\u001b[1;33m)\u001b[0m\u001b[1;33m\u001b[0m\u001b[1;33m\u001b[0m\u001b[0m\n\u001b[0m",
      "\u001b[1;32mc:\\Users\\SampreetGupta\\AppData\\Local\\Programs\\Python\\Python37\\lib\\site-packages\\codex_widget_factory\\utils.py\u001b[0m in \u001b[0;36msubmit_config_params\u001b[1;34m(url, nb_name, results, codex_tags, args)\u001b[0m\n\u001b[0;32m     91\u001b[0m \u001b[1;33m\u001b[0m\u001b[0m\n\u001b[0;32m     92\u001b[0m \u001b[1;32mdef\u001b[0m \u001b[0msubmit_config_params\u001b[0m\u001b[1;33m(\u001b[0m\u001b[0murl\u001b[0m\u001b[1;33m,\u001b[0m \u001b[0mnb_name\u001b[0m\u001b[1;33m,\u001b[0m \u001b[0mresults\u001b[0m\u001b[1;33m,\u001b[0m \u001b[0mcodex_tags\u001b[0m\u001b[1;33m=\u001b[0m\u001b[1;32mNone\u001b[0m\u001b[1;33m,\u001b[0m \u001b[0margs\u001b[0m\u001b[1;33m=\u001b[0m\u001b[1;32mNone\u001b[0m\u001b[1;33m)\u001b[0m\u001b[1;33m:\u001b[0m\u001b[1;33m\u001b[0m\u001b[1;33m\u001b[0m\u001b[0m\n\u001b[1;32m---> 93\u001b[1;33m     \u001b[0mfile_content\u001b[0m \u001b[1;33m=\u001b[0m \u001b[0mopen\u001b[0m\u001b[1;33m(\u001b[0m\u001b[0mnb_name\u001b[0m\u001b[1;33m.\u001b[0m\u001b[0mreplace\u001b[0m\u001b[1;33m(\u001b[0m\u001b[1;34m'.ipynb'\u001b[0m\u001b[1;33m,\u001b[0m \u001b[1;34m'.py'\u001b[0m\u001b[1;33m)\u001b[0m\u001b[1;33m,\u001b[0m \u001b[1;34m'r'\u001b[0m\u001b[1;33m)\u001b[0m\u001b[1;33m.\u001b[0m\u001b[0mread\u001b[0m\u001b[1;33m(\u001b[0m\u001b[1;33m)\u001b[0m\u001b[1;33m\u001b[0m\u001b[1;33m\u001b[0m\u001b[0m\n\u001b[0m\u001b[0;32m     94\u001b[0m \u001b[1;33m\u001b[0m\u001b[0m\n\u001b[0;32m     95\u001b[0m     \u001b[0mwidgets\u001b[0m \u001b[1;33m=\u001b[0m \u001b[1;33m[\u001b[0m\u001b[1;33m]\u001b[0m\u001b[1;33m\u001b[0m\u001b[1;33m\u001b[0m\u001b[0m\n",
      "\u001b[1;31mFileNotFoundError\u001b[0m: [Errno 2] No such file or directory: 'Downloads\\\\depe1.py'"
     ]
    }
   ],
   "source": [
    "\n",
    "utils.submit_config_params(url='https://codex-api-stage.azurewebsites.net/codex-api/projects/upload-config-params/XbpsYR9JylEWw7cfZo3YLw', nb_name=currentNotebook, results=results_json, codex_tags=codex_tags, args={})"
   ]
  }
 ],
 "metadata": {
  "kernelspec": {
   "display_name": "Python 3",
   "language": "python",
   "name": "python3"
  },
  "language_info": {
   "codemirror_mode": {
    "name": "ipython",
    "version": 3
   },
   "file_extension": ".py",
   "mimetype": "text/x-python",
   "name": "python",
   "nbconvert_exporter": "python",
   "pygments_lexer": "ipython3",
   "version": "3.7.5"
  },
  "orig_nbformat": 4,
  "vscode": {
   "interpreter": {
    "hash": "a96afb4c5e530be632fe4ae220902658aaf598ffb07f39eceab225b5ab973af6"
   }
  }
 },
 "nbformat": 4,
 "nbformat_minor": 2
}
